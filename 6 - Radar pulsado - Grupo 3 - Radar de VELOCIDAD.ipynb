{
 "cells": [
  {
   "cell_type": "markdown",
   "metadata": {
    "id": "pxuY0_A7-lsH"
   },
   "source": [
    "# ***Radar Doppler Pulsado***\n",
    "\n",
    "Luego de haber investigado sobre el modelo de radar pulsado para medir distancia se decidió implementar un radar doppler utilizando pulsaciones en vez de una onda continua.\n",
    "\n",
    "Este tipo de radares se basa en emitir trenes de pulsos a una frecuencia determinada y utilizar el efecto Doppler para determinar la velocidad transversal relativa de los objetos, aquellos que se acerquen al radar aumentaran la frecuencia del eco producido, mientras que aquellos que se alejan disminuyen la frecuencia.\n",
    "\n",
    "De la diferencia de las frecuencias nace el cálculo de la velocidad del objeto.\n",
    "\n"
   ]
  },
  {
   "cell_type": "markdown",
   "metadata": {
    "id": "6ZHlTOD2IGi5"
   },
   "source": [
    "\n",
    "\n",
    "---\n",
    "\n",
    "\n",
    "**Configuración del SDR y creación de la señal para la transmisión**"
   ]
  },
  {
   "cell_type": "code",
   "execution_count": 41,
   "metadata": {
    "id": "gWp69YI23tle"
   },
   "outputs": [],
   "source": [
    "#Bibliotecas usadas para el funcionamiento del código\n",
    "\n",
    "import adi\n",
    "import numpy as np\n",
    "from commpy.filters import rrcosfilter\n",
    "from sk_dsp_comm import digitalcom as dc\n",
    "import scipy.signal as signal\n",
    "import matplotlib.pyplot as plt\n",
    "from scipy.fftpack import fftfreq\n",
    "from scipy.linalg import bandwidth\n",
    "\n",
    "import time\n",
    "\n",
    "global nV\n",
    "nV = 1200"
   ]
  },
  {
   "cell_type": "code",
   "execution_count": 42,
   "metadata": {
    "id": "hI6xrytuK3yX"
   },
   "outputs": [],
   "source": [
    "#Configuracion de los parámetros del SDR a usar\n",
    "\n",
    "#------------------------------- SDR Parameter Configuration -------------------------------\n",
    "\n",
    "Uri              = \"ip:192.168.1.34\"\n",
    "SamplingRate     = 61e6           # Sample rate RX and TX paths[Samples/Sec]\n",
    "Loopback         = 0             # 0=Disabled, 1=Digital, 2=RF\n",
    "\n",
    "TxLOFreq         = 918e6        # Carrier frequency of TX path [Hz] RELLENAR CON LA FREC. DE PORTADORA ASIGNADA\n",
    "TxAtten          = -30             # Attenuation applied to TX path, valid range is -90 to 0 dB [dB]\n",
    "TxRfBw           = 61e6          # Bandwidth of front-end analog filter of TX path [Hz]\n",
    "\n",
    "RxLOFreq         = 918e6     # Carrier frequency of RX path [Hz]\n",
    "GainControlModes = \"slow_attack\" # Receive path AGC Options: slow_attack, fast_attack, manual\n",
    "RxHardwareGain   = 0             # Gain applied to RX path. Only applicable when gain_control_mode is set to 'manual'\n",
    "RxRfBw           = TxRfBw        # Bandwidth of front-end analog filter of RX path [Hz]\n",
    "RxBufferSize     = 2**20-1"
   ]
  },
  {
   "cell_type": "markdown",
   "metadata": {
    "id": "SxKDEXUC7Vso"
   },
   "source": [
    "Definimos las carácterísticas del tren de pulso que vamos a utilizar\n"
   ]
  },
  {
   "cell_type": "code",
   "execution_count": 43,
   "metadata": {
    "id": "4gXIsLrY7Thr"
   },
   "outputs": [],
   "source": [
    "PRI = 0.01 #Se trata de un valor arbitrario, intervalo cada cuánto se repite el pulso (entre el inicio de un pulso y su antecesor)\n",
    "PRF = 1/PRI #cantidad de pulsos por unidad de tiempo\n",
    "potencia_señal = 1\n",
    "c = 299792458 #velocidad de la luz en metros por segundo\n",
    "\n",
    "pulses = 10 #cantidad de pulsos del radar\n",
    "\n",
    "sample_f = SamplingRate\n",
    "step = 1/SamplingRate #paso entre las muestras\n",
    "f1 = 500e3\n",
    "samples = pulses*int(PRI*SamplingRate) # PRI/step cantidad de muestras que necesito para un PRI."
   ]
  },
  {
   "cell_type": "markdown",
   "metadata": {
    "id": "uNIE8vEq38Y1"
   },
   "source": [
    "Creación del array que almacenará los pulsos a utilizar, dónde cada pulso esta modulado por una onda sinusoidal de frecuencia f1 y duración $PRI = 10$*ms*"
   ]
  },
  {
   "cell_type": "code",
   "execution_count": 44,
   "metadata": {
    "colab": {
     "base_uri": "https://localhost:8080/",
     "height": 957
    },
    "id": "c_OBmdwA__sa",
    "outputId": "ebb8af90-3e7d-4935-aa7b-ec1501f1f786"
   },
   "outputs": [
    {
     "data": {
      "image/png": "[encoded data removed]",
      "text/plain": [
       "<Figure size 720x360 with 1 Axes>"
      ]
     },
     "metadata": {
      "needs_background": "light"
     },
     "output_type": "display_data"
    },
    {
     "data": {
      "image/png": "[encoded data removed]",
      "text/plain": [
       "<Figure size 720x360 with 1 Axes>"
      ]
     },
     "metadata": {
      "needs_background": "light"
     },
     "output_type": "display_data"
    }
   ],
   "source": [
    "t = np.linspace(0,(samples-1)*step,samples) #Genera el array de valores de tiempo (1.800.000 valores separados cada <step> unidades de tiempo)\n",
    "pulse_length = 0.001 #[s] => 0.001 duración del pulso en segundos\n",
    "Tx_I = 20*np.sin(2*np.pi*f1*t) + 20\n",
    "Tx_Q = 20*np.sin(2*np.pi*f1*t + np.pi/2) + 20\n",
    "global zeros\n",
    "zeros = np.zeros(len(t))  # arreglo completo\n",
    "ones = np.ones(int(pulse_length*SamplingRate)) # señal continua de duracion pulse_length\n",
    "\n",
    "for i in range(0,len(Tx_I),int(PRI*SamplingRate)):\n",
    "      zeros[i:i+len(ones)] = ones #Cada un PRI, hacemos a la función zeros igual a 1 durante un tiempo <pulse_length> (es decir tenemos un tren de pulsos)\n",
    "\n",
    "#graficamos el tren de pulsos\n",
    "plt.figure(figsize=(10, 5))\n",
    "plt.plot(t[:int(len(zeros)/4)],zeros[:int(len(zeros)/4)])\n",
    "plt.title(\"Tren de Pulsos\")\n",
    "plt.xlabel('Tiempo [s]')\n",
    "plt.ylabel('Amplitud')\n",
    "plt.show()\n",
    "\n",
    "\n",
    "#graficamos la señal modulada\n",
    "Tx_I = Tx_I * zeros # parte real de la señal\n",
    "Tx_Q = Tx_Q * zeros #parte imaginaria\n",
    "Tx = Tx_I + 1j * Tx_Q\n",
    "\n",
    "plt.figure(figsize=(10, 5))\n",
    "plt.plot(t[:int(len(Tx)/4)],Tx[:int(len(Tx)/4)])\n",
    "plt.title(\"Señal modulada\")\n",
    "plt.xlabel('Tiempo [s]')\n",
    "plt.ylabel('Amplitud')\n",
    "plt.show()"
   ]
  },
  {
   "cell_type": "markdown",
   "metadata": {
    "id": "lUg4wXUmJdJo"
   },
   "source": [
    "Configuración de la SDR"
   ]
  },
  {
   "cell_type": "code",
   "execution_count": 45,
   "metadata": {
    "id": "9knZMeI8JbF_"
   },
   "outputs": [],
   "source": [
    "#-----------------------------------SDR Configurations-------------------------------\n",
    "sdr             = adi.Pluto(Uri)\n",
    "sdr.sample_rate = SamplingRate\n",
    "sdr.loopback    = Loopback\n",
    "#Tx:\n",
    "sdr.tx_lo                 = int(TxLOFreq)\n",
    "sdr.tx_hardwaregain_chan0 = TxAtten\n",
    "sdr.tx_rf_bandwidth       = int(TxRfBw)\n",
    "sdr.tx_buffer_size        = samples\n",
    "sdr.tx_cyclic_buffer      = True\n",
    "# Rx:\n",
    "sdr.rx_lo                   = int(RxLOFreq)\n",
    "sdr.gain_control_mode_chan0 = GainControlModes\n",
    "sdr.rx_rf_bandwidth         = int(RxRfBw)\n",
    "sdr.rx_cyclic_buffer        = True\n",
    "sdr.rx_buffer_size          = RxBufferSize\n",
    "sdr.rx_enabled_channels = [0]"
   ]
  },
  {
   "cell_type": "markdown",
   "metadata": {
    "id": "PkJOPrzxLuHS"
   },
   "source": [
    "Transmisión y recepción con dos SDR"
   ]
  },
  {
   "cell_type": "code",
   "execution_count": 1,
   "metadata": {
    "id": "4_6BET7HLxh4",
    "scrolled": false
   },
   "outputs": [
    {
     "ename": "NameError",
     "evalue": "name 'sdr' is not defined",
     "output_type": "error",
     "traceback": [
      "\u001b[0;31m---------------------------------------------------------------------------\u001b[0m",
      "\u001b[0;31mNameError\u001b[0m                                 Traceback (most recent call last)",
      "Input \u001b[0;32mIn [1]\u001b[0m, in \u001b[0;36m<cell line: 1>\u001b[0;34m()\u001b[0m\n\u001b[0;32m----> 1\u001b[0m \u001b[43msdr\u001b[49m\u001b[38;5;241m.\u001b[39mrx_destroy_buffer()\n\u001b[1;32m      2\u001b[0m sdr\u001b[38;5;241m.\u001b[39mtx_destroy_buffer()\n\u001b[1;32m      5\u001b[0m \u001b[38;5;66;03m#Inicio transmisión y recepción de la \u001b[39;00m\n",
      "\u001b[0;31mNameError\u001b[0m: name 'sdr' is not defined"
     ]
    }
   ],
   "source": [
    "sdr.rx_destroy_buffer()\n",
    "sdr.tx_destroy_buffer()\n",
    "\n",
    "\n",
    "#Inicio transmisión y recepción de la SDR\n",
    "sdr.tx(Tx * (2**15-1))\n",
    "sdr.rx()\n",
    "\n",
    "time.sleep(1)\n",
    "\n",
    "rxSignal = sdr.rx() / (2**15-1)\n",
    "\n",
    "\n",
    "plt.figure(figsize=(10, 5))\n",
    "plt.plot(t[:int(len(Tx)/4)],Tx[:int(len(Tx)/4)])\n",
    "plt.show()\n",
    "\n",
    "plt.figure(figsize=(10, 5))\n",
    "plt.plot(rxSignal[:int(len(Tx)/4)])\n",
    "plt.show()\n",
    "\n",
    "\n"
   ]
  },
  {
   "cell_type": "code",
   "execution_count": 47,
   "metadata": {},
   "outputs": [
    {
     "name": "stderr",
     "output_type": "stream",
     "text": [
      "/tmp/ipykernel_33459/3732993565.py:13: ComplexWarning: Casting complex values to real discards the imaginary part\n",
      "  pulso[j] = rxSignal[i]\n",
      "/tmp/ipykernel_33459/3732993565.py:17: ComplexWarning: Casting complex values to real discards the imaginary part\n",
      "  pulso[j] = rxSignal[i]\n"
     ]
    },
    {
     "data": {
      "image/png": "[encoded data removed]",
      "text/plain": [
       "<Figure size 720x360 with 1 Axes>"
      ]
     },
     "metadata": {
      "needs_background": "light"
     },
     "output_type": "display_data"
    },
    {
     "data": {
      "image/png": "[encoded data removed]",
      "text/plain": [
       "<Figure size 720x360 with 1 Axes>"
      ]
     },
     "metadata": {
      "needs_background": "light"
     },
     "output_type": "display_data"
    }
   ],
   "source": [
    "#Cambio de frecuencia de la señal recibida\n",
    "pulso = np.zeros(int(pulse_length*SamplingRate))\n",
    "\n",
    "i = 0\n",
    "j = 0\n",
    "paso = 0\n",
    "tengoPrimero = 0\n",
    "while i<len(rxSignal):\n",
    "    if(rxSignal[i]>0.06 and paso==0):\n",
    "        i += int(pulse_length*SamplingRate)\n",
    "        paso=1\n",
    "    elif(rxSignal[i]>0.06 and paso==1 and tengoPrimero==0):\n",
    "        pulso[j] = rxSignal[i]\n",
    "        tengoPrimero = 1\n",
    "        j+=1\n",
    "    elif(tengoPrimero==1):\n",
    "        pulso[j] = rxSignal[i] \n",
    "        if(j==(pulse_length*SamplingRate - 1)):\n",
    "            break\n",
    "        j+=1\n",
    "    i+=1\n",
    "    \n",
    "plt.figure(figsize=(10, 5))\n",
    "plt.plot(pulso[:int(pulse_length*SamplingRate)])\n",
    "plt.title(\"Un pulso de la señal recibida\")\n",
    "plt.show()\n",
    "\n",
    "rxPrima = np.zeros(len(t))\n",
    "\n",
    "new_freq = PRF / (1 + (nV/c))\n",
    "\n",
    "for i in range(0,len(t),int(1/new_freq*SamplingRate)):\n",
    "      rxPrima[i:i+len(pulso)] = pulso #Cada medio PRI, hacemos a la función zeros igual a un pulso recibido durante un tiempo <pulse_length> (es decir tenemos un tren de pulsos modulado)\n",
    "\n",
    "plt.figure(figsize=(10, 5))\n",
    "plt.plot(t[:int(len(rxPrima)/4)],rxPrima[:int(len(rxPrima)/4)])\n",
    "plt.title(\"Una simulacion de señal recibida con otra frecuencia\")\n",
    "plt.show()"
   ]
  },
  {
   "cell_type": "markdown",
   "metadata": {},
   "source": [
    "#### Rectificación y Matched Filter"
   ]
  },
  {
   "cell_type": "code",
   "execution_count": 48,
   "metadata": {},
   "outputs": [
    {
     "data": {
      "text/plain": [
       "[<matplotlib.lines.Line2D at 0x7f018ec62c70>]"
      ]
     },
     "execution_count": 48,
     "metadata": {},
     "output_type": "execute_result"
    },
    {
     "data": {
      "image/png": "[encoded data removed]",
      "text/plain": [
       "<Figure size 432x288 with 1 Axes>"
      ]
     },
     "metadata": {
      "needs_background": "light"
     },
     "output_type": "display_data"
    }
   ],
   "source": [
    "rx_rectified = np.abs(rxPrima) #rectificado de señal\n",
    "\n",
    "rx_rec_filt = np.convolve(np.conjugate(Tx[:int(pulse_length*SamplingRate)]),rx_rectified,mode='full') \n",
    "plt.plot(t[:int(len(rx_rec_filt)/4)],rx_rec_filt[:int(len(rx_rec_filt)/4)])"
   ]
  },
  {
   "cell_type": "code",
   "execution_count": 49,
   "metadata": {},
   "outputs": [
    {
     "name": "stdout",
     "output_type": "stream",
     "text": [
      "0.010000032786885245\n",
      "El PRF de la señal recibida es: 99.99967213222253[Hz]\n"
     ]
    }
   ],
   "source": [
    "#Cálculo de frecuencia de la señal recibida\n",
    "\n",
    "# Inicializamos los máximos y sus índices para cada sección\n",
    "max1 = float('-inf')\n",
    "index_max1 = None\n",
    "\n",
    "max2 = float('-inf')\n",
    "index_max2 = None\n",
    "\n",
    "# Encontramos el máximo en la primera sección\n",
    "for indice, valor in enumerate(rx_rec_filt[:int(PRI*SamplingRate)]):\n",
    "    if valor > max1:\n",
    "        max1 = valor\n",
    "        index_max1 = indice + 0\n",
    "\n",
    "# Encontramos el máximo en la segunda sección\n",
    "for indice, valor in enumerate(rx_rec_filt[int(PRI*SamplingRate):int(2*PRI*SamplingRate)]):\n",
    "    if valor > max2:\n",
    "        max2 = valor\n",
    "        index_max2 = indice + int(PRI*SamplingRate)\n",
    "\n",
    "dif =step *(index_max2 - index_max1)\n",
    "print(dif)\n",
    "fp = 1/(dif)\n",
    "print(\"El PRF de la señal recibida es: \" + str(fp) + \"[Hz]\")\n",
    "    \n",
    "    \n"
   ]
  },
  {
   "cell_type": "code",
   "execution_count": 50,
   "metadata": {
    "scrolled": true
   },
   "outputs": [
    {
     "name": "stdout",
     "output_type": "stream",
     "text": [
      "El objeto se está alejando con una velocidad de 982.9260917627936[m/s]\n"
     ]
    }
   ],
   "source": [
    "#Calculo de la velocidad\n",
    "# f' = f0*(v+v0)/(v-vs) = f0*(c+v0)/(c-vs) => vs = c - (f0*c/f') = c*(1-(f0/f'))\n",
    "vs = c * (1 - (PRF / fp)) \n",
    "\n",
    "cadena=\"\"\n",
    "\n",
    "if(vs < 0):\n",
    "    cadena = \"El objeto se está alejando\"\n",
    "elif(vs > 0):\n",
    "    cadena = \"El objeto se está acercando\"\n",
    "elif(vs == 0):\n",
    "    cadena = \"El objeto está quieto\"\n",
    "\n",
    "print(cadena + \" con una velocidad de \" + str(abs(vs)) + \"[m/s]\")"
   ]
  },
  {
   "cell_type": "markdown",
   "metadata": {},
   "source": [
    "Simulación utilizando buffers circulares"
   ]
  },
  {
   "cell_type": "code",
   "execution_count": 51,
   "metadata": {
    "scrolled": true
   },
   "outputs": [],
   "source": [
    "# Since it is not possible to turn off Tx, it is configured to transmit at low power and on a different frequency than Rx.\n",
    "sdr.tx_destroy_buffer()\n",
    "TxAtten  = -70\n",
    "RxLOFreq = 2400e6\n",
    "sdr.tx(np.zeros(1024))"
   ]
  },
  {
   "cell_type": "code",
   "execution_count": 52,
   "metadata": {},
   "outputs": [],
   "source": [
    "# Destroy radio object\n",
    "del(sdr)"
   ]
  },
  {
   "cell_type": "code",
   "execution_count": null,
   "metadata": {},
   "outputs": [],
   "source": []
  }
 ],
 "metadata": {
  "colab": {
   "provenance": []
  },
  "kernelspec": {
   "display_name": "Python 3 (ipykernel)",
   "language": "python",
   "name": "python3"
  },
  "language_info": {
   "codemirror_mode": {
    "name": "ipython",
    "version": 3
   },
   "file_extension": ".py",
   "mimetype": "text/x-python",
   "name": "python",
   "nbconvert_exporter": "python",
   "pygments_lexer": "ipython3",
   "version": "3.9.7"
  }
 },
 "nbformat": 4,
 "nbformat_minor": 1
}
