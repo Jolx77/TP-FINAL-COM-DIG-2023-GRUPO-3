{
 "cells": [
  {
   "cell_type": "markdown",
   "id": "55f619e4",
   "metadata": {
    "id": "55f619e4"
   },
   "source": [
    "# Generando un tren de pulsos de radar pulsado"
   ]
  },
  {
   "cell_type": "markdown",
   "id": "152b0239",
   "metadata": {
    "id": "152b0239"
   },
   "source": [
    "Un radar pulsado es aquel capaz de medir tanto rango (distancia) como velocidad, haciendo uso de la transmisión de pulsos muy cortos de duración τ y un periodo de escucha mayor Τ para luego leer el reflejo del mismo en alguna superficie. La distancia al objetivo se determina por el tiempo de ida y vuelta de la señal (en el caso estacionario) generando un Δ$t$, lo que nos permite utilizar la siguiente fómula:\n",
    " ### <center> $R = \\frac{\\Delta t*c}{2}$            \n",
    "  Donde $R$ es el rango y $c$ es la velocidad de propagación de la onda, que al ser electromagnética corresponde a la velocidad de la luz. Con esta información y midiendo el $\\Delta t$, podemos calcular una estimación del rango."
   ]
  },
  {
   "cell_type": "code",
   "execution_count": 1,
   "id": "cb5e923b",
   "metadata": {
    "id": "cb5e923b"
   },
   "outputs": [],
   "source": [
    "import numpy as np\n",
    "import matplotlib.pyplot as plt\n",
    "#------------------------------- SDR Parameter Configuration -------------------------------\n",
    "\n",
    "Uri              = \"ip:192.168.1.31\"\n",
    "SamplingRate     = 6e6        # Sample rate RX and TX paths[Samples/Sec]\n",
    "Loopback         = 0          # 0=Disabled, 1=Digital, 2=RF\n",
    "\n",
    "TxLOFreq         = 930e6         # Carrier frequency of TX path [Hz] RELLENAR CON LA FREC. DE PORTADORA ASIGNADA\n",
    "TxAtten          = -30          # Attenuation applied to TX path, valid range is -90 to 0 dB [dB]\n",
    "TxRfBw           = 6e6           # Bandwidth of front-end analog filter of TX path [Hz]\n",
    "\n",
    "RxLOFreq         = TxLOFreq      # Carrier frequency of RX path [Hz]\n",
    "GainControlModes = \"slow_attack\" # Receive path AGC Options: slow_attack, fast_attack, manual\n",
    "RxHardwareGain   = 0             # Gain applied to RX path. Only applicable when gain_control_mode is set to 'manual'\n",
    "RxRfBw           = TxRfBw        # Bandwidth of front-end analog filter of RX path [Hz]\n",
    "RxBufferSize     = 2**20-1"
   ]
  },
  {
   "cell_type": "code",
   "execution_count": 2,
   "id": "f1fcdc52",
   "metadata": {
    "id": "f1fcdc52"
   },
   "outputs": [],
   "source": [
    "import adi\n",
    "import time\n",
    "import sys\n",
    "import timeit\n",
    "import matplotlib.pyplot as plt\n",
    "from datetime import datetime\n",
    "import numpy as np\n",
    "import threading\n",
    "from commpy.filters import rrcosfilter\n",
    "from sk_dsp_comm import digitalcom as dc\n",
    "import scipy.signal as signal\n",
    "from scipy.fftpack import fftfreq\n",
    "from scipy.linalg import bandwidth"
   ]
  },
  {
   "cell_type": "code",
   "execution_count": 3,
   "id": "d0809187",
   "metadata": {},
   "outputs": [],
   "source": [
    "Uri2              = \"ip:192.168.1.32\"\n",
    "SamplingRate2     = 6e6           # Sample rate RX and TX paths[Samples/Sec]\n",
    "Loopback2         = 0            # 0=Disabled, 1=Digital, 2=RF\n",
    "\n",
    "TxLOFreq2         = 930e6         # Carrier frequency of TX path [Hz] RELLENAR CON LA FREC. DE PORTADORA ASIGNADA\n",
    "TxAtten2          = -30         # Attenuation applied to TX path, valid range is -90 to 0 dB [dB]\n",
    "TxRfBw2           = 6e6          # Bandwidth of front-end analog filter of TX path [Hz]\n",
    "\n",
    "RxLOFreq2         = TxLOFreq      # Carrier frequency of RX path [Hz]\n",
    "GainControlModes2 = \"slow_attack\" # Receive path AGC Options: slow_attack, fast_attack, manual\n",
    "RxHardwareGain2   = 0             # Gain applied to RX path. Only applicable when gain_control_mode is set to 'manual'\n",
    "RxRfBw2           = TxRfBw        # Bandwidth of front-end analog filter of RX path [Hz]\n",
    "RxBufferSize2     = 2**20-1"
   ]
  },
  {
   "cell_type": "markdown",
   "id": "f2cf6be1",
   "metadata": {
    "id": "f2cf6be1"
   },
   "source": [
    "Definimos variables como el PRI (pulse repetition interval) y su inversa, PRF (pulse repetition frequency). Por otro lado, determinamos la frecuencia de sampling y de transmisión dentro del pulso. El valor del PRI nos dará el rango máximo calculable por nuestro radar, ya que, nuestro pulso debe ser transmitido y recibido antes de volver a transmitir el segundo pulso. Es por esto que la máxima distancia calculable es:\n",
    "  \n",
    "$Max Range = \\frac{c}{2}*PRI $.\n",
    "\n",
    "En nuestro caso, la distancia máxima es de 150000 [m] o 150 [km] para un PRI de 0.001 [s] y una PRF de 1[kHz]."
   ]
  },
  {
   "cell_type": "code",
   "execution_count": 4,
   "id": "7d88696f",
   "metadata": {
    "id": "7d88696f"
   },
   "outputs": [],
   "source": [
    "PRI = 0.001 #Se trata de un valor arbitrario, intervalo cada cuánto se repite el pulso (entre el inicio de un pulso y su antecesor)\n",
    "PRF = 1/PRI #cantidad de pulsos por unidad de tiempo\n",
    "potencia_señal = 1\n",
    "\n",
    "pulses = 100 #cantidad de pulsos del radar\n",
    "\n",
    "sample_f = SamplingRate\n",
    "step = 1/SamplingRate #paso entre las muestras\n",
    "f1 = 500e3\n",
    "samples = pulses*int(PRI/step) # PRI/step cantidad de muestras que necesito para un PRI."
   ]
  },
  {
   "cell_type": "markdown",
   "id": "u0BWjyLZ_l4p",
   "metadata": {
    "id": "u0BWjyLZ_l4p"
   },
   "source": [
    "En esta porción de código calculamos la cantidad de $samples$ que vamos a utilizar, se obtiene de la división entre el intervalo de la repetición de pulsos y el paso entre las muestras, esto nos da la cantidad de muestras por pulso, luego, al multiplicarlo por la cantidad de pulsos del radar obtenemos la cantidad de muestras."
   ]
  },
  {
   "cell_type": "markdown",
   "id": "b7734f04",
   "metadata": {
    "id": "b7734f04"
   },
   "source": [
    "En las siguientes celdas generamos nuestra señal a transmitir ,nuestro vector de tiempo y se realiza la configuración de la SDR haciendo uso de la libreria adi."
   ]
  },
  {
   "cell_type": "markdown",
   "id": "aecb91b7",
   "metadata": {
    "id": "aecb91b7"
   },
   "source": [
    "\n",
    "\\begin{equation}\n",
    "    Tx = \\Pi(t) + \\Pi(t)*j\n",
    "\\end{equation}\n",
    "\n"
   ]
  },
  {
   "cell_type": "code",
   "execution_count": 5,
   "id": "1e5d1868",
   "metadata": {
    "id": "1e5d1868"
   },
   "outputs": [],
   "source": [
    "t = np.linspace(0,(samples-1)*step,samples) #Genera el array de valores de tiempo (600.000 valores separados cada <step> unidades de tiempo)\n",
    "pulse_length = 0.0000004#[s]\n",
    "global zeros\n",
    "zeros = np.zeros(len(t))  # arreglo completo\n",
    "ones = np.ones(int(pulse_length*SamplingRate)) # señal continua de duracion pulse_length\n",
    "\n",
    "for i in range(0,len(t),int(PRI*SamplingRate)):\n",
    "      zeros[i:i+len(ones)] = ones #Cada un PRI, hacemos a la función zeros igual a 1 durante un tiempo <pulse_length> (es decir tenemos un tren de pulsos)\n",
    "\n",
    "zerosOG = zeros +1j*zeros"
   ]
  },
  {
   "cell_type": "code",
   "execution_count": 6,
   "id": "b6e6a0d4",
   "metadata": {
    "colab": {
     "base_uri": "https://localhost:8080/",
     "height": 482
    },
    "id": "b6e6a0d4",
    "outputId": "f4c4c25c-aaba-4966-b7ea-fab41596fa7e"
   },
   "outputs": [
    {
     "name": "stderr",
     "output_type": "stream",
     "text": [
      "/home/jupyter-user_comdig23_3/.local/lib/python3.9/site-packages/matplotlib/cbook/__init__.py:1335: ComplexWarning: Casting complex values to real discards the imaginary part\n",
      "  return np.asarray(x, float)\n"
     ]
    },
    {
     "data": {
      "text/plain": [
       "[<matplotlib.lines.Line2D at 0x7f352bb92bb0>]"
      ]
     },
     "execution_count": 6,
     "metadata": {},
     "output_type": "execute_result"
    },
    {
     "data": {
      "image/png": "[encoded data removed]",
      "text/plain": [
       "<Figure size 432x288 with 1 Axes>"
      ]
     },
     "metadata": {
      "needs_background": "light"
     },
     "output_type": "display_data"
    }
   ],
   "source": [
    "Tx = zerosOG\n",
    "plt.plot(t[:13000],Tx[:13000])"
   ]
  },
  {
   "cell_type": "code",
   "execution_count": 7,
   "id": "9a74c312",
   "metadata": {
    "colab": {
     "base_uri": "https://localhost:8080/",
     "height": 245
    },
    "id": "9a74c312",
    "outputId": "7102631f-7f73-4d10-a9f2-cf618abe5f9f"
   },
   "outputs": [
    {
     "ename": "Exception",
     "evalue": "No device found",
     "output_type": "error",
     "traceback": [
      "\u001b[0;31m---------------------------------------------------------------------------\u001b[0m",
      "\u001b[0;31mOSError\u001b[0m                                   Traceback (most recent call last)",
      "File \u001b[0;32m~/.local/lib/python3.9/site-packages/adi/context_manager.py:65\u001b[0m, in \u001b[0;36mcontext_manager.__init__\u001b[0;34m(self, uri, _device_name)\u001b[0m\n\u001b[1;32m     64\u001b[0m     \u001b[38;5;28;01melse\u001b[39;00m:\n\u001b[0;32m---> 65\u001b[0m         \u001b[38;5;28mself\u001b[39m\u001b[38;5;241m.\u001b[39m_ctx \u001b[38;5;241m=\u001b[39m \u001b[43miio\u001b[49m\u001b[38;5;241;43m.\u001b[39;49m\u001b[43mContext\u001b[49m\u001b[43m(\u001b[49m\u001b[38;5;28;43mself\u001b[39;49m\u001b[38;5;241;43m.\u001b[39;49m\u001b[43muri\u001b[49m\u001b[43m)\u001b[49m\n\u001b[1;32m     66\u001b[0m \u001b[38;5;28;01mexcept\u001b[39;00m \u001b[38;5;167;01mBaseException\u001b[39;00m:\n",
      "File \u001b[0;32m~/.local/lib/python3.9/site-packages/iio.py:1358\u001b[0m, in \u001b[0;36mContext.__init__\u001b[0;34m(self, _context)\u001b[0m\n\u001b[1;32m   1357\u001b[0m \u001b[38;5;28;01melif\u001b[39;00m _isstring(_context):\n\u001b[0;32m-> 1358\u001b[0m     \u001b[38;5;28mself\u001b[39m\u001b[38;5;241m.\u001b[39m_context \u001b[38;5;241m=\u001b[39m \u001b[43m_new_uri\u001b[49m\u001b[43m(\u001b[49m\u001b[43m_context\u001b[49m\u001b[38;5;241;43m.\u001b[39;49m\u001b[43mencode\u001b[49m\u001b[43m(\u001b[49m\u001b[38;5;124;43m\"\u001b[39;49m\u001b[38;5;124;43mascii\u001b[39;49m\u001b[38;5;124;43m\"\u001b[39;49m\u001b[43m)\u001b[49m\u001b[43m)\u001b[49m\n\u001b[1;32m   1359\u001b[0m \u001b[38;5;28;01melse\u001b[39;00m:\n",
      "File \u001b[0;32m~/.local/lib/python3.9/site-packages/iio.py:56\u001b[0m, in \u001b[0;36m_check_null\u001b[0;34m(result, func, arguments)\u001b[0m\n\u001b[1;32m     55\u001b[0m err \u001b[38;5;241m=\u001b[39m get_last_error() \u001b[38;5;28;01mif\u001b[39;00m \u001b[38;5;124m\"\u001b[39m\u001b[38;5;124mWindows\u001b[39m\u001b[38;5;124m\"\u001b[39m \u001b[38;5;129;01min\u001b[39;00m _system() \u001b[38;5;28;01melse\u001b[39;00m get_errno()\n\u001b[0;32m---> 56\u001b[0m \u001b[38;5;28;01mraise\u001b[39;00m \u001b[38;5;167;01mOSError\u001b[39;00m(err, _strerror(err))\n",
      "\u001b[0;31mOSError\u001b[0m: [Errno 113] No route to host",
      "\nDuring handling of the above exception, another exception occurred:\n",
      "\u001b[0;31mException\u001b[0m                                 Traceback (most recent call last)",
      "Input \u001b[0;32mIn [7]\u001b[0m, in \u001b[0;36m<cell line: 2>\u001b[0;34m()\u001b[0m\n\u001b[1;32m      1\u001b[0m \u001b[38;5;66;03m#-----------------------------------SDR Configurations-------------------------------\u001b[39;00m\n\u001b[0;32m----> 2\u001b[0m sdr             \u001b[38;5;241m=\u001b[39m \u001b[43madi\u001b[49m\u001b[38;5;241;43m.\u001b[39;49m\u001b[43mPluto\u001b[49m\u001b[43m(\u001b[49m\u001b[43mUri\u001b[49m\u001b[43m)\u001b[49m\n\u001b[1;32m      3\u001b[0m sdr\u001b[38;5;241m.\u001b[39msample_rate \u001b[38;5;241m=\u001b[39m SamplingRate\n\u001b[1;32m      4\u001b[0m sdr\u001b[38;5;241m.\u001b[39mloopback    \u001b[38;5;241m=\u001b[39m Loopback\n",
      "File \u001b[0;32m~/.local/lib/python3.9/site-packages/adi/rx_tx.py:746\u001b[0m, in \u001b[0;36mrx_tx_def.__init__\u001b[0;34m(self, *args, **kwargs)\u001b[0m\n\u001b[1;32m    743\u001b[0m \u001b[38;5;28;01mdef\u001b[39;00m \u001b[38;5;21m__init__\u001b[39m(\n\u001b[1;32m    744\u001b[0m     \u001b[38;5;28mself\u001b[39m, \u001b[38;5;241m*\u001b[39margs: Union[\u001b[38;5;28mstr\u001b[39m, iio\u001b[38;5;241m.\u001b[39mContext], \u001b[38;5;241m*\u001b[39m\u001b[38;5;241m*\u001b[39mkwargs: Union[\u001b[38;5;28mstr\u001b[39m, iio\u001b[38;5;241m.\u001b[39mContext]\n\u001b[1;32m    745\u001b[0m ) \u001b[38;5;241m-\u001b[39m\u001b[38;5;241m>\u001b[39m \u001b[38;5;28;01mNone\u001b[39;00m:\n\u001b[0;32m--> 746\u001b[0m     \u001b[43mrx_def\u001b[49m\u001b[38;5;241;43m.\u001b[39;49m\u001b[38;5;21;43m__init__\u001b[39;49m\u001b[43m(\u001b[49m\u001b[38;5;28;43mself\u001b[39;49m\u001b[43m,\u001b[49m\u001b[43m \u001b[49m\u001b[38;5;241;43m*\u001b[39;49m\u001b[43margs\u001b[49m\u001b[43m,\u001b[49m\u001b[43m \u001b[49m\u001b[38;5;241;43m*\u001b[39;49m\u001b[38;5;241;43m*\u001b[39;49m\u001b[43mkwargs\u001b[49m\u001b[43m)\u001b[49m\n\u001b[1;32m    747\u001b[0m     tx_def\u001b[38;5;241m.\u001b[39m\u001b[38;5;21m__init__\u001b[39m(\u001b[38;5;28mself\u001b[39m, \u001b[38;5;241m*\u001b[39margs, \u001b[38;5;241m*\u001b[39m\u001b[38;5;241m*\u001b[39mkwargs)\n\u001b[1;32m    749\u001b[0m     \u001b[38;5;28mself\u001b[39m\u001b[38;5;241m.\u001b[39m__post_init__()\n",
      "File \u001b[0;32m~/.local/lib/python3.9/site-packages/adi/rx_tx.py:665\u001b[0m, in \u001b[0;36mrx_def.__init__\u001b[0;34m(self, *args, **kwargs)\u001b[0m\n\u001b[1;32m    661\u001b[0m \u001b[38;5;28;01mdef\u001b[39;00m \u001b[38;5;21m__init__\u001b[39m(\n\u001b[1;32m    662\u001b[0m     \u001b[38;5;28mself\u001b[39m, \u001b[38;5;241m*\u001b[39margs: Union[\u001b[38;5;28mstr\u001b[39m, iio\u001b[38;5;241m.\u001b[39mContext], \u001b[38;5;241m*\u001b[39m\u001b[38;5;241m*\u001b[39mkwargs: Union[\u001b[38;5;28mstr\u001b[39m, iio\u001b[38;5;241m.\u001b[39mContext]\n\u001b[1;32m    663\u001b[0m ) \u001b[38;5;241m-\u001b[39m\u001b[38;5;241m>\u001b[39m \u001b[38;5;28;01mNone\u001b[39;00m:\n\u001b[0;32m--> 665\u001b[0m     \u001b[43mshared_def\u001b[49m\u001b[38;5;241;43m.\u001b[39;49m\u001b[38;5;21;43m__init__\u001b[39;49m\u001b[43m(\u001b[49m\u001b[38;5;28;43mself\u001b[39;49m\u001b[43m,\u001b[49m\u001b[43m \u001b[49m\u001b[38;5;241;43m*\u001b[39;49m\u001b[43margs\u001b[49m\u001b[43m,\u001b[49m\u001b[43m \u001b[49m\u001b[38;5;241;43m*\u001b[39;49m\u001b[38;5;241;43m*\u001b[39;49m\u001b[43mkwargs\u001b[49m\u001b[43m)\u001b[49m\n\u001b[1;32m    667\u001b[0m     \u001b[38;5;28;01mif\u001b[39;00m \u001b[38;5;28mself\u001b[39m\u001b[38;5;241m.\u001b[39m_rx_data_device_name:\n\u001b[1;32m    668\u001b[0m         \u001b[38;5;28mself\u001b[39m\u001b[38;5;241m.\u001b[39m_rxadc \u001b[38;5;241m=\u001b[39m \u001b[38;5;28mself\u001b[39m\u001b[38;5;241m.\u001b[39m_ctx\u001b[38;5;241m.\u001b[39mfind_device(\u001b[38;5;28mself\u001b[39m\u001b[38;5;241m.\u001b[39m_rx_data_device_name)\n",
      "File \u001b[0;32m~/.local/lib/python3.9/site-packages/adi/rx_tx.py:615\u001b[0m, in \u001b[0;36mshared_def.__init__\u001b[0;34m(self, *args, **kwargs)\u001b[0m\n\u001b[1;32m    613\u001b[0m \u001b[38;5;28;01melif\u001b[39;00m uri_ctx:\n\u001b[1;32m    614\u001b[0m     \u001b[38;5;28mself\u001b[39m\u001b[38;5;241m.\u001b[39muri \u001b[38;5;241m=\u001b[39m uri_ctx\n\u001b[0;32m--> 615\u001b[0m     \u001b[43mcontext_manager\u001b[49m\u001b[38;5;241;43m.\u001b[39;49m\u001b[38;5;21;43m__init__\u001b[39;49m\u001b[43m(\u001b[49m\u001b[38;5;28;43mself\u001b[39;49m\u001b[43m,\u001b[49m\u001b[43m \u001b[49m\u001b[43muri_ctx\u001b[49m\u001b[43m,\u001b[49m\u001b[43m \u001b[49m\u001b[38;5;28;43mself\u001b[39;49m\u001b[38;5;241;43m.\u001b[39;49m\u001b[43m_device_name\u001b[49m\u001b[43m)\u001b[49m\n\u001b[1;32m    616\u001b[0m \u001b[38;5;28;01melse\u001b[39;00m:\n\u001b[1;32m    617\u001b[0m     required_devices \u001b[38;5;241m=\u001b[39m [\u001b[38;5;28mself\u001b[39m\u001b[38;5;241m.\u001b[39m_rx_data_device_name, \u001b[38;5;28mself\u001b[39m\u001b[38;5;241m.\u001b[39m_control_device_name]\n",
      "File \u001b[0;32m~/.local/lib/python3.9/site-packages/adi/context_manager.py:67\u001b[0m, in \u001b[0;36mcontext_manager.__init__\u001b[0;34m(self, uri, _device_name)\u001b[0m\n\u001b[1;32m     65\u001b[0m         \u001b[38;5;28mself\u001b[39m\u001b[38;5;241m.\u001b[39m_ctx \u001b[38;5;241m=\u001b[39m iio\u001b[38;5;241m.\u001b[39mContext(\u001b[38;5;28mself\u001b[39m\u001b[38;5;241m.\u001b[39muri)\n\u001b[1;32m     66\u001b[0m \u001b[38;5;28;01mexcept\u001b[39;00m \u001b[38;5;167;01mBaseException\u001b[39;00m:\n\u001b[0;32m---> 67\u001b[0m     \u001b[38;5;28;01mraise\u001b[39;00m \u001b[38;5;167;01mException\u001b[39;00m(\u001b[38;5;124m\"\u001b[39m\u001b[38;5;124mNo device found\u001b[39m\u001b[38;5;124m\"\u001b[39m)\n",
      "\u001b[0;31mException\u001b[0m: No device found"
     ]
    }
   ],
   "source": [
    "#-----------------------------------SDR Configurations-------------------------------\n",
    "sdr             = adi.Pluto(Uri)\n",
    "sdr.sample_rate = SamplingRate\n",
    "sdr.loopback    = Loopback\n",
    "#Tx:\n",
    "sdr.tx_lo                 = int(TxLOFreq)\n",
    "sdr.tx_hardwaregain_chan0 = TxAtten\n",
    "sdr.tx_rf_bandwidth       = int(TxRfBw)\n",
    "sdr.tx_buffer_size        = samples\n",
    "sdr.tx_cyclic_buffer      = True\n",
    "# Rx:\n",
    "sdr.rx_lo                   = int(RxLOFreq)\n",
    "sdr.gain_control_mode_chan0 = GainControlModes\n",
    "sdr.rx_rf_bandwidth         = int(RxRfBw)\n",
    "sdr.rx_cyclic_buffer        = True\n",
    "sdr.rx_buffer_size          = RxBufferSize\n",
    "sdr.rx_enabled_channels = [0]"
   ]
  },
  {
   "cell_type": "code",
   "execution_count": null,
   "id": "8d5b36ac",
   "metadata": {},
   "outputs": [],
   "source": [
    "#-----------------------------------SDR Configurations-------------------------------\n",
    "sdr2             = adi.Pluto(Uri2)\n",
    "sdr2.sample_rate = SamplingRate2\n",
    "sdr2.loopback    = Loopback2\n",
    "#Tx:\n",
    "sdr2.tx_lo                 = int(TxLOFreq2)\n",
    "sdr2.tx_hardwaregain_chan0 = TxAtten2\n",
    "sdr2.tx_rf_bandwidth       = int(TxRfBw2)\n",
    "sdr2.tx_buffer_size        = samples\n",
    "sdr2.tx_cyclic_buffer      = True\n",
    "# Rx:\n",
    "sdr2.rx_lo                   = int(RxLOFreq2)\n",
    "sdr2.gain_control_mode_chan0 = GainControlModes2\n",
    "sdr2.rx_rf_bandwidth         = int(RxRfBw2)\n",
    "sdr2.rx_cyclic_buffer        = True\n",
    "sdr2.rx_buffer_size          = RxBufferSize2\n",
    "sdr2.rx_enabled_channels = [0]"
   ]
  },
  {
   "cell_type": "markdown",
   "id": "877444fa",
   "metadata": {
    "id": "877444fa"
   },
   "source": [
    "Tramisión y Recepción"
   ]
  },
  {
   "cell_type": "code",
   "execution_count": null,
   "id": "3e8b42ec",
   "metadata": {
    "colab": {
     "base_uri": "https://localhost:8080/",
     "height": 210
    },
    "id": "3e8b42ec",
    "outputId": "f867ef86-0ddc-4ef6-e900-c03add7f228e",
    "scrolled": false
   },
   "outputs": [],
   "source": [
    "Loopback        = 0 \n",
    "sdr.loopback    = Loopback\n",
    "sdr.rx_destroy_buffer()\n",
    "sdr.tx_destroy_buffer()\n",
    "sdr2.tx_destroy_buffer()\n",
    "sdr2.rx_destroy_buffer()\n",
    "global picture\n",
    "global rxSignal\n",
    "global rxSignalPic\n",
    "global zeros\n",
    "global zerosPic\n",
    "global tim1\n",
    "global tim2\n",
    "\n",
    "# Función para la transmisión en un hilo\n",
    "def transmitir():\n",
    "    global tim1\n",
    "    global tim2\n",
    "    sdr.tx(Tx * ((2**15-1)))\n",
    "    tim1 = time.time()\n",
    "    sdr2.tx(Tx*0.6* ((2**15-1)))\n",
    "    tim2 = time.time()\n",
    "    auxTim = ((tim2-tim1)/PRI)%1\n",
    "    print(auxTim)\n",
    "\n",
    "# Función para la recepción en un hilo\n",
    "def recibir1():\n",
    "    global rxSignal\n",
    "    rxSignal = sdr.rx() / ((2**15-1)) \n",
    "\n",
    "def transmitir2():\n",
    "    while True:\n",
    "        sdr2.rx()/(2**15-1)\n",
    "\n",
    "   \n",
    "# Crea los hilos\n",
    "thread_tx = threading.Thread(target=transmitir)\n",
    "#thread_tx2 = threading.Thread(target=transmitir2)      \n",
    "thread_rx1 = threading.Thread(target=recibir1)\n",
    "\n",
    "#thread_tx2.start()\n",
    "thread_tx.start()\n",
    "thread_rx1.start()\n",
    "          \n",
    "# Espera a que los hilos terminen\n",
    "thread_tx.join()\n",
    "#thread_tx2.join()\n",
    "thread_rx1.join()    "
   ]
  },
  {
   "cell_type": "markdown",
   "id": "e7c71116",
   "metadata": {
    "id": "e7c71116"
   },
   "source": [
    "Luego de transmitir la señal, utilizamos la antena receptora para hacer la lectura correspondiente del pulso reflejado. En este caso tomamos de a 50 muestras de la señal reflejada guardadas en una matriz con 10 filas y n columnas, siendo n igual a la cantidad de muestras que hay en un determinado pulso (equivalente al tiempo PRI).\n",
    "\n",
    "Ambas señales se escalan por (2^15)-1, ya que la SDR espera valores entre -(2^15-1) y (2^15-1)"
   ]
  },
  {
   "cell_type": "code",
   "execution_count": null,
   "id": "9b1b81bf",
   "metadata": {
    "colab": {
     "base_uri": "https://localhost:8080/",
     "height": 245
    },
    "id": "9b1b81bf",
    "outputId": "ed8db496-df74-443e-c14b-bf4bb80d9c7b",
    "scrolled": false
   },
   "outputs": [],
   "source": [
    "global rxSignal\n",
    "\n",
    "zeros = zerosOG\n",
    "def modificar_arreglo(arr):\n",
    "    maximo_valor = max(arr)  # Calcula el máximo valor en el arreglo\n",
    "    umbral = 0.3 * maximo_valor  # Establece el umbral al 60% del máximo\n",
    "\n",
    "    # Modifica el arreglo, estableciendo a 0 los valores mayores al 60% del máximo\n",
    "    nuevo_arreglo = [0 if valor < umbral else valor for valor in arr]\n",
    "\n",
    "    return nuevo_arreglo\n",
    "\n",
    "\n",
    "rxSignalPic = sdr.rx() / ((2**15-1))\n",
    "rxSignalPicOG = rxSignalPic\n",
    "#rxSignalPic = rxSignalPic\n",
    "\n",
    "\n",
    "#desplazas zeros timestamp2-timestamp1\n",
    "rows, cols = (pulses, int(PRI*SamplingRate)) #cantidad de pulsos recibidos y cantidad de muestras en cada pulso\n",
    "recieved_signal = [[0 for i in range(cols)] for j in range(rows)]\n",
    "for i in range(rows):\n",
    "    recieved_signal[i] = rxSignal[i*int(PRI*SamplingRate):i*int(PRI*SamplingRate)+int(PRI*SamplingRate)] #cada fila es un pulso, cada columna una muestra del pulso\n",
    "\n",
    "size = 15000\n",
    "#rxSignalRectifed = np.maximum(rxSignalPic, 0)\n",
    "rxSignalRectifed = np.abs(rxSignalPic)\n",
    "\n",
    "rxSignalRectifed = modificar_arreglo(rxSignalRectifed)\n",
    "# Frecuencia de corte deseada en Hz\n",
    "corte_deseado = 10000# 100 kHz\n",
    "\n",
    "# Frecuencia de muestreo de la señal\n",
    "fs = SamplingRate # inserta tu frecuencia de muestreo aquí\n",
    "\n",
    "# Calcula la frecuencia de corte normalizada\n",
    "fc_normalizada = corte_deseado / (0.5 * fs)\n",
    "\n",
    "rp = 3  # máxima ondulación en la banda de paso en dB\n",
    "order = 4  # orden del filtro\n",
    "\n",
    "# Diseña el filtro Chebyshev tipo I\n",
    "b, a = signal.cheby1(order, rp, fc_normalizada, btype='low')\n",
    "\n",
    "# Coeficientes del filtro pasa bajos\n",
    "#b, a = signal.butter(4, fc_normalizada, btype='low')\n",
    "\n",
    "# Aplica el filtro a la señal demodulada\n",
    "demodulated_signal_filtered = signal.lfilter(b, a, rxSignalRectifed)\n",
    "\n",
    "\n",
    "#demodulated_signal_filtered = signal.lfilter([1], [1, -0.9], rxSignalRectifed)\n",
    "\n",
    "\n",
    "# Visualización de la señal recibida\n",
    "plt.figure(figsize=(10, 5))\n",
    "plt.plot(t[0:60000],zeros[0:60000], label='Zeros Signal')\n",
    "plt.plot(t[0:60000],rxSignalPic[0:60000], label='Rx Signal')\n",
    "plt.legend()\n",
    "plt.xlabel('Tiempo')\n",
    "plt.ylabel('Amplitud')\n",
    "plt.title('Tren de pulso')\n",
    "plt.grid(True)\n",
    "plt.show()\n",
    "\n",
    "\n",
    "# Visualización de la señal recibida rectificada\n",
    "plt.figure(figsize=(10, 5))\n",
    "plt.plot(t[0:10000], rxSignalPic[0:10000], label='Rx Signal')\n",
    "plt.legend()\n",
    "plt.xlabel('Tiempo')\n",
    "plt.ylabel('Amplitud')\n",
    "plt.title('Tren de pulso')\n",
    "plt.grid(True)\n",
    "plt.show()\n",
    "\n",
    "\n",
    "# Visualización de la señal recibida rectificada\n",
    "plt.figure(figsize=(10, 5))\n",
    "#plt.plot(t[:size], zeros[:size], label='Zeros Signal')\n",
    "plt.plot(t[:10000], rxSignalRectifed[:10000], label='Rectified Signal')\n",
    "plt.legend()\n",
    "plt.xlabel('Tiempo')\n",
    "plt.ylabel('Amplitud')\n",
    "plt.title('Tren de pulso')\n",
    "plt.grid(True)\n",
    "plt.show()\n",
    "\n",
    "#Matched filter used to maximize SNR ratio\n",
    "def matched_filter(pulse,signal):\n",
    "    #debo conjugar la señal o utilizar el pulso conjugado\n",
    "    return np.convolve(pulse,signal,mode='full')\n",
    "\n",
    "rows, cols = (pulses, int(PRI/step))\n",
    "con =  [[0 for i in range(cols)] for j in range(rows)]\n",
    "for i in range(rows):\n",
    "       con[i] = matched_filter(zeros[i*int(PRI*SamplingRate):i*int(PRI*SamplingRate)+int(PRI*SamplingRate)],rxSignalRectifed[i*int(PRI*SamplingRate):i*int(PRI*SamplingRate)+int(PRI*SamplingRate)])\n",
    "\n",
    "        \n",
    "\n",
    "plt.xlabel('Tiempo')\n",
    "plt.ylabel('Salida del Matched Filter')\n",
    "plt.grid(True)\n",
    "plt.plot(t[:len(con[8])],con[3][:len(con[9])])\n",
    "#plt.plot(t[2000:3000],demodulated_signal_filtered[2000:3000])\n",
    "plt.show()       \n",
    "\n",
    "index_max_i = 0\n",
    "index_max_w = 0\n",
    "max_con_j = []\n",
    "max_con_w = []\n",
    "max_i = 0\n",
    "aux = 0\n",
    "for j in range(len(con[0])):\n",
    "    if((con[i][j] > max_i)):\n",
    "        max_i = con[0][j]\n",
    "        index_max_i = j - int(pulse_length * SamplingRate)\n",
    "        \n",
    "aux = index_max_i + int(pulse_length/2 * SamplingRate)       \n",
    "rxSignalRectifed = rxSignalRectifed[int(aux):]\n",
    "#rxSignalRectifed = np.concatenate([rxSignalRectifed, np.zeros(int(aux))]) \n",
    "# Visualización de la señal demodulada\n",
    "plt.figure(figsize=(10, 5))\n",
    "plt.plot(t[0:20000], rxSignalRectifed[0:20000], label='Demodulated Signal')\n",
    "plt.legend()\n",
    "plt.xlabel('Tiempo')\n",
    "plt.ylabel('Amplitud')\n",
    "plt.title('Señal Demodulada y Filtrada')\n",
    "plt.grid(True)\n",
    "plt.show() \n",
    "rows, cols = (pulses, int(PRI/step))\n",
    "con =  [[0 for i in range(cols)] for j in range(rows)]\n",
    "for i in range(rows):\n",
    "       con[i] = matched_filter(zerosOG[i*int(PRI*SamplingRate):i*int(PRI*SamplingRate)+int(PRI*SamplingRate)],rxSignalRectifed[i*int(PRI*SamplingRate):i*int(PRI*SamplingRate)+int(PRI*SamplingRate)])\n",
    "# Visualización de la señal recibida rectificada\n",
    "plt.figure(figsize=(10, 5))\n",
    "#plt.plot(t[:size], zeros[:size], label='Zeros Signal')\n",
    "plt.plot(t[0:50000],zeros[0:50000], label='Zeros Signal')\n",
    "plt.plot(t[0:50000],zerosOG[0:50000], label='ZerosOG Signal')\n",
    "plt.legend()\n",
    "plt.xlabel('Tiempo')\n",
    "plt.ylabel('Amplitud')\n",
    "plt.title('Tren de pulso')\n",
    "plt.grid(True)\n",
    "plt.show() \n",
    "\n",
    "\n",
    "plt.xlabel('Tiempo')\n",
    "plt.ylabel('Salida del Matched Filter')\n",
    "plt.grid(True)\n",
    "for j in range(pulses):\n",
    "    plt.plot(t[:len(con[8])],con[j][:len(con[9])])\n",
    "#plt.plot(t[2000:3000],demodulated_signal_filtered[2000:3000])\n",
    "plt.show()  \n",
    "       \n",
    "index_max_i = 0\n",
    "index_max_w = 0\n",
    "max_con_j = []\n",
    "max_con_w = []\n",
    "max_val_j = []\n",
    "max_val_w = []\n",
    "for i in range(rows):\n",
    "    max_i = 0\n",
    "    for j in range(len(con[i])):\n",
    "        if((con[i][j] > max_i)):\n",
    "            max_i = con[i][j]\n",
    "            index_max_j = j - int(pulse_length * SamplingRate)\n",
    "    max_j = 0        \n",
    "    for w in range((index_max_j + int(2*pulse_length * SamplingRate)),len(con[i])): \n",
    "        if((con[i][w] > max_j)):\n",
    "            max_j = con[i][w]\n",
    "            index_max_w = w - int(pulse_length * SamplingRate)\n",
    "    \n",
    "    \n",
    "    max_con_j.append(index_max_j)\n",
    "    max_val_j.append(max_i)\n",
    "    max_con_w.append(index_max_w)# Guardar el índice en lugar del tiempo\n",
    "    max_val_w.append(max_j)\n",
    "    \n",
    "if (np.median(max_val_j) < np.median(max_val_w)):\n",
    "    print(np.median(max_val_j))\n",
    "    print(np.median(max_val_w))\n",
    "    print(\"ERROR\")\n",
    "    sys.exit()\n",
    "    \n",
    "    \n",
    "# Calcular el delta time estimado\n",
    "stimation_delta_t1_mediana = np.median(max_con_j) / SamplingRate\n",
    "stimation_delta_t2_mediana = np.median(max_con_w) / SamplingRate\n",
    "stimation_delta_t_mediana = stimation_delta_t2_mediana - stimation_delta_t1_mediana\n",
    "\n",
    "stimation_delta_t1_media = np.mean(max_con_j) / SamplingRate\n",
    "stimation_delta_t2_media = np.mean(max_con_w) / SamplingRate\n",
    "stimation_delta_t_media = stimation_delta_t2_media - stimation_delta_t1_media\n",
    "\n",
    "print(\"Tiempo delta estimado (MEDIANA): \" + str(stimation_delta_t_mediana) + \"[s]\")\n",
    "print(\"Tiempo delta estimado (MEDIA): \" + str(stimation_delta_t_media) + \"[s]\")\n",
    "\n",
    "# Calcular el rango estimado\n",
    "stimation_range_mediana = stimation_delta_t_mediana * 299792458 / 2\n",
    "stimation_range_media = stimation_delta_t_media * 299792458 / 2\n",
    "print(\"Distancia estimada (MEDIANA): \" + str(stimation_range_mediana) + \"[m]\")\n",
    "print(\"Distancia estimada (MEDIA): \" + str(stimation_range_media) + \"[m]\")\n",
    "\n"
   ]
  },
  {
   "cell_type": "code",
   "execution_count": null,
   "id": "5cc007b0",
   "metadata": {},
   "outputs": [
    {
     "name": "stdout",
     "output_type": "stream",
     "text": [
      "Tiempo delta estimado (MEDIANA): 0.23066666666666666[s]\n",
      "Tiempo estimado Real: 0.30502891540527344\n",
      "Diferencia entre estimacion y real: -0.07436224873860678\n",
      "Diferencia entre estimacion y real (PORCENTAJE): 24.378753942001254\n",
      "0\n",
      "Tiempo delta estimado (MEDIANA): 0.37999999999999995[s]\n",
      "Tiempo estimado Real: 0.3798198699951172\n",
      "Diferencia entre estimacion y real: 0.00018013000488276143\n",
      "Diferencia entre estimacion y real (PORCENTAJE): 0.04740263286387991\n",
      "1\n",
      "Tiempo delta estimado (MEDIANA): 0.8145[s]\n",
      "Tiempo estimado Real: 0.8194637298583984\n",
      "Diferencia entre estimacion y real: -0.004963729858398436\n",
      "Diferencia entre estimacion y real (PORCENTAJE): 0.6057290490765421\n",
      "2\n",
      "Tiempo delta estimado (MEDIANA): 0.17416666666666666[s]\n",
      "Tiempo estimado Real: 0.07965087890625\n",
      "Diferencia entre estimacion y real: 0.09451578776041666\n",
      "Diferencia entre estimacion y real (PORCENTAJE): 54.26743794856459\n",
      "3\n",
      "Tiempo delta estimado (MEDIANA): 0.30933333333333335[s]\n",
      "Tiempo estimado Real: 0.35144805908203125\n",
      "Diferencia entre estimacion y real: -0.0421147257486979\n",
      "Diferencia entre estimacion y real (PORCENTAJE): 11.983200549947536\n",
      "4\n",
      "Tiempo delta estimado (MEDIANA): 0.22366666666666668[s]\n",
      "Tiempo estimado Real: 0.23190689086914062\n",
      "Diferencia entre estimacion y real: -0.008240224202473945\n",
      "Diferencia entre estimacion y real (PORCENTAJE): 3.5532468102138948\n",
      "5\n"
     ]
    }
   ],
   "source": [
    "global stimationMedian\n",
    "global stimationMean\n",
    "global stimationRealTime\n",
    "global timTot\n",
    "global picture\n",
    "global rxSignal\n",
    "global rxSignalPic\n",
    "global zeros\n",
    "global zerosPic\n",
    "global tim1\n",
    "global tim2\n",
    "stimationMedian = []\n",
    "stimationMean = []\n",
    "stimationMedianPorcentaje = []\n",
    "\n",
    "# Función para la transmisión en un hilo\n",
    "def transmitir():\n",
    "    global tim1\n",
    "    global tim2\n",
    "    global timTot\n",
    "    sdr.tx(Tx * ((2**15-1)))\n",
    "    tim1 = time.time()\n",
    "    sdr2.tx(Tx * ((2**15-1)))\n",
    "    tim2 = time.time()\n",
    "    timTot = ((tim2 - tim1)/PRI)%1\n",
    "\n",
    "# Función para la recepción en un hilo\n",
    "def recibir1():\n",
    "    global rxSignal\n",
    "    rxSignal = sdr.rx() / ((2**15-1)) \n",
    "\n",
    "def modificar_arreglo(arr):\n",
    "    maximo_valor = max(arr)  # Calcula el máximo valor en el arreglo\n",
    "    umbral = 0.3 * maximo_valor  # Establece el umbral al 60% del máximo\n",
    "    # Modifica el arreglo, estableciendo a 0 los valores mayores al 60% del máximo\n",
    "    nuevo_arreglo = [0 if valor < umbral else valor for valor in arr]\n",
    "    return nuevo_arreglo\n",
    "\n",
    "lenght = 1000\n",
    "\n",
    "for l in range(lenght):\n",
    "    sdr.rx_destroy_buffer()\n",
    "    sdr.tx_destroy_buffer()\n",
    "    sdr2.tx_destroy_buffer()\n",
    "    \n",
    "    # Crea los hilos\n",
    "    thread_tx = threading.Thread(target=transmitir)\n",
    "    thread_rx1 = threading.Thread(target=recibir1)\n",
    "\n",
    "    thread_tx.start()\n",
    "    thread_rx1.start()\n",
    "\n",
    "    # Espera a que los hilos terminen\n",
    "    thread_tx.join()\n",
    "    thread_rx1.join()    \n",
    "    \n",
    "    if (timTot > 4e-4):\n",
    "        global rxSignal\n",
    "    \n",
    "        zeros = zerosOG\n",
    "    \n",
    "        rxSignalPic = sdr.rx() / ((2**15-1))\n",
    "        rxSignalPicOG = rxSignalPic\n",
    "    \n",
    "        rows, cols = (pulses, int(PRI*SamplingRate)) #cantidad de pulsos recibidos y cantidad de muestras en cada pulso\n",
    "        recieved_signal = [[0 for i in range(cols)] for j in range(rows)]\n",
    "        for i in range(rows):\n",
    "            recieved_signal[i] = rxSignal[i*int(PRI*SamplingRate):i*int(PRI*SamplingRate)+int(PRI*SamplingRate)] #cada fila es un pulso, cada columna una muestra del pulso\n",
    "    \n",
    "        size = 15000\n",
    "        #rxSignalRectifed = np.maximum(rxSignalPic, 0)\n",
    "        rxSignalRectifed = np.abs(rxSignalPic)\n",
    "    \n",
    "        rxSignalRectifed = modificar_arreglo(rxSignalRectifed)\n",
    "        # Frecuencia de corte deseada en Hz\n",
    "        corte_deseado = 10000# 100 kHz\n",
    "    \n",
    "        # Frecuencia de muestreo de la señal\n",
    "        fs = SamplingRate # inserta tu frecuencia de muestreo aquí\n",
    "    \n",
    "        # Calcula la frecuencia de corte normalizada\n",
    "        fc_normalizada = corte_deseado / (0.5 * fs)\n",
    "    \n",
    "        rp = 3  # máxima ondulación en la banda de paso en dB\n",
    "        order = 4  # orden del filtro\n",
    "    \n",
    "        # Diseña el filtro Chebyshev tipo I\n",
    "        b, a = signal.cheby1(order, rp, fc_normalizada, btype='low')\n",
    "    \n",
    "        # Coeficientes del filtro pasa bajos\n",
    "        #b, a = signal.butter(4, fc_normalizada, btype='low')\n",
    "    \n",
    "        # Aplica el filtro a la señal demodulada\n",
    "        demodulated_signal_filtered = signal.lfilter(b, a, rxSignalRectifed)\n",
    "    \n",
    "        #Matched filter used to maximize SNR ratio\n",
    "        def matched_filter(pulse,signal):\n",
    "            #debo conjugar la señal o utilizar el pulso conjugado\n",
    "            return np.convolve(pulse,signal,mode='full')\n",
    "    \n",
    "        rows, cols = (pulses, int(PRI/step))\n",
    "        con =  [[0 for i in range(cols)] for j in range(rows)]\n",
    "        for i in range(rows):\n",
    "               con[i] = matched_filter(zeros[i*int(PRI*SamplingRate):i*int(PRI*SamplingRate)+int(PRI*SamplingRate)],rxSignalRectifed[i*int(PRI*SamplingRate):i*int(PRI*SamplingRate)+int(PRI*SamplingRate)])\n",
    "    \n",
    "        index_max_i = 0\n",
    "        index_max_w = 0\n",
    "        max_con_j = []\n",
    "        max_con_w = []\n",
    "        max_i = 0\n",
    "        aux = 0\n",
    "        for j in range(len(con[0])):\n",
    "            if((con[i][j] > max_i)):\n",
    "                max_i = con[0][j]\n",
    "                index_max_i = j - int(pulse_length * SamplingRate)\n",
    "    \n",
    "        aux = index_max_i + int(pulse_length/2 * SamplingRate)       \n",
    "        rxSignalRectifed = rxSignalRectifed[int(aux):]\n",
    "        rxSignalRectifed = np.concatenate([rxSignalRectifed, np.zeros(int(aux))]) \n",
    "        # Visualización de la señal demodulada\n",
    "        rows, cols = (pulses, int(PRI/step))\n",
    "        con =  [[0 for i in range(cols)] for j in range(rows)]\n",
    "        for i in range(rows):\n",
    "               con[i] = matched_filter(zerosOG[i*int(PRI*SamplingRate):i*int(PRI*SamplingRate)+int(PRI*SamplingRate)],rxSignalRectifed[i*int(PRI*SamplingRate):i*int(PRI*SamplingRate)+int(PRI*SamplingRate)])\n",
    "    \n",
    "        index_max_i = 0\n",
    "        index_max_w = 0\n",
    "        max_con_j = []\n",
    "        max_con_w = []\n",
    "        max_val_j = []\n",
    "        max_val_w = []\n",
    "        for i in range(rows):\n",
    "            max_i = 0\n",
    "            for j in range(len(con[i])):\n",
    "                if((con[i][j] > max_i)):\n",
    "                    max_i = con[i][j]\n",
    "                    index_max_j = j - int(pulse_length * SamplingRate)\n",
    "            max_j = 0        \n",
    "            for w in range((index_max_j + int(2*pulse_length * SamplingRate)),len(con[i])): \n",
    "                if((con[i][w] > max_j)):\n",
    "                    max_j = con[i][w]\n",
    "                    index_max_w = w - int(pulse_length * SamplingRate)\n",
    "    \n",
    "    \n",
    "            max_con_j.append(index_max_j)\n",
    "            max_val_j.append(max_i)\n",
    "            max_con_w.append(index_max_w)# Guardar el índice en lugar del tiempo\n",
    "            max_val_w.append(max_j)\n",
    "    \n",
    "        # Calcular el delta time estimado\n",
    "        stimation_delta_t1_mediana = np.median(max_con_j) / SamplingRate\n",
    "        stimation_delta_t2_mediana = np.median(max_con_w) / SamplingRate\n",
    "        stimation_delta_t_mediana = stimation_delta_t2_mediana - stimation_delta_t1_mediana\n",
    "        stimationMedian.append(((stimation_delta_t_mediana/PRI) - timTot))\n",
    "        \n",
    "    \n",
    "    \n",
    "        stimation_delta_t1_media = np.mean(max_con_j) / SamplingRate\n",
    "        stimation_delta_t2_media = np.mean(max_con_w) / SamplingRate\n",
    "        stimation_delta_t_media = stimation_delta_t2_media - stimation_delta_t1_media\n",
    "        stimationMean.append(((stimation_delta_t_media/PRI)-timTot))\n",
    "    \n",
    "    \n",
    "        print(\"Tiempo delta estimado (MEDIANA): \" + str(stimation_delta_t_mediana / PRI) + \"[s]\")\n",
    "        print(\"Tiempo estimado Real: \"+str(timTot))\n",
    "        print(\"Diferencia entre estimacion y real: \" + str((stimation_delta_t_mediana/PRI) - timTot))\n",
    "        if((stimation_delta_t_mediana/PRI) > timTot):\n",
    "            aux2 = abs((timTot/(stimation_delta_t_mediana/PRI))-1)*100\n",
    "            print(\"Diferencia entre estimacion y real (PORCENTAJE): \" + str(aux2))\n",
    "            if(aux2 < 70):\n",
    "                stimationMedianPorcentaje.append(aux2)\n",
    "        else:\n",
    "            aux3 = abs(((stimation_delta_t_mediana/PRI)/timTot)-1)*100\n",
    "            print(\"Diferencia entre estimacion y real (PORCENTAJE): \" + str(aux3))\n",
    "            if(aux3 < 70):\n",
    "                stimationMedianPorcentaje.append(aux3)\n",
    "            \n",
    "        #print(\"Tiempo delta estimado (MEDIA): \" + str(stimation_delta_t_media) + \"[s]\")\n",
    "    \n",
    "        # Calcular el rango estimado\n",
    "        stimation_range_mediana = stimation_delta_t_mediana * 299792458 / 2\n",
    "        stimation_range_media = stimation_delta_t_media * 299792458 / 2\n",
    "        #print(\"Distancia estimada (MEDIANA): \" + str(stimation_range_mediana) + \"[m]\")\n",
    "        #print(\"Distancia estimada (MEDIA): \" + str(stimation_range_media) + \"[m]\")\n",
    "        print(l)\n",
    "\n",
    "    "
   ]
  },
  {
   "cell_type": "markdown",
   "id": "47917704",
   "metadata": {},
   "source": [
    "La siguiente celda corresponde a 1000 corridas del programa para analizar la diferencia entre el tiempo estimado con el programa y el tiempo calculado mediante timestamps. Cabe aclarar que este valor suele ser de un 15% de media y 7,5% de mediana debido a la baja exactitud de los timestaps y al ruido. Se utiliza unicamente para demostrar que el modelo seria funcional en caso de contar con las distancias minimas permitidas por el ancho de pulso para medir un objeto real, al no ser esto posible se simula utilizando otra SDR.   \n",
    "NOTA: HAY QUE INTENTAR UTILIZAR LOOPBACK RF PERO NO SE COMO FUNCIONA"
   ]
  },
  {
   "cell_type": "code",
   "execution_count": null,
   "id": "9a8c906d",
   "metadata": {},
   "outputs": [],
   "source": [
    "\n",
    "print(\"La media de error en porcentaje es: \" + str(np.mean(stimationMedianPorcentaje)))\n",
    "print(\"La mediana de error en porcentaje es: \" + str(np.median(stimationMedianPorcentaje)))\n",
    "\n",
    "plt.hist(stimationMedianPorcentaje, bins=len(stimationMedianPorcentaje), density=True, alpha=0.75, edgecolor='red')\n",
    "\n",
    "# Personalizar el gráfico\n",
    "plt.title('Diferencia en porcentaje')\n",
    "plt.xlabel('Valor')\n",
    "plt.ylabel('Frecuencia')\n",
    "plt.xlim(0,max(stimationMedianPorcentaje))\n",
    "# Ajustar la resolución\n",
    "plt.figure(dpi=300)\n",
    "\n",
    "# Mostrar el histograma\n",
    "plt.show()\n",
    "\n",
    "plt.hist(stimationMedian, bins=len(stimationMedian), density=True, alpha=0.75, edgecolor='red')\n",
    "\n",
    "# Personalizar el gráfico\n",
    "plt.title('Diferencia en ')\n",
    "plt.xlabel('Valor')\n",
    "plt.ylabel('Frecuencia')\n",
    "plt.xlim(min(stimationMedian),max(stimationMedian))\n",
    "# Ajustar la resolución\n",
    "plt.figure(dpi=300)\n",
    "\n",
    "# Mostrar el histograma\n",
    "plt.show()"
   ]
  },
  {
   "cell_type": "markdown",
   "id": "a3261cf3",
   "metadata": {
    "id": "a3261cf3"
   },
   "source": [
    "### Cálculo y estimación del rango\n",
    "Haciendo uso de las 100 muestras tomadas, y de hacer pasar la señal recibida por el matched filter, es tiempo de calcular los distintos $\\Delta t$ para cada muestra. Luego de hacer esto se calcula la media y se determina el valor estimado por el radar siguiendo la formula expresada anteriormente:\n",
    "### <center> $R = \\frac{\\Delta t*c}{2}$"
   ]
  },
  {
   "cell_type": "code",
   "execution_count": 23,
   "id": "5e3a5dbe",
   "metadata": {
    "colab": {
     "base_uri": "https://localhost:8080/",
     "height": 449
    },
    "id": "5e3a5dbe",
    "outputId": "2a136f44-590d-44f5-a311-b26dffca75db"
   },
   "outputs": [
    {
     "ename": "NameError",
     "evalue": "name 'signalEliminada' is not defined",
     "output_type": "error",
     "traceback": [
      "\u001b[0;31m---------------------------------------------------------------------------\u001b[0m",
      "\u001b[0;31mNameError\u001b[0m                                 Traceback (most recent call last)",
      "Input \u001b[0;32mIn [23]\u001b[0m, in \u001b[0;36m<cell line: 8>\u001b[0;34m()\u001b[0m\n\u001b[1;32m      7\u001b[0m con \u001b[38;5;241m=\u001b[39m  [[\u001b[38;5;241m0\u001b[39m \u001b[38;5;28;01mfor\u001b[39;00m i \u001b[38;5;129;01min\u001b[39;00m \u001b[38;5;28mrange\u001b[39m(cols)] \u001b[38;5;28;01mfor\u001b[39;00m j \u001b[38;5;129;01min\u001b[39;00m \u001b[38;5;28mrange\u001b[39m(rows)]\n\u001b[1;32m      8\u001b[0m \u001b[38;5;28;01mfor\u001b[39;00m i \u001b[38;5;129;01min\u001b[39;00m \u001b[38;5;28mrange\u001b[39m(rows):\n\u001b[0;32m----> 9\u001b[0m        con[i] \u001b[38;5;241m=\u001b[39m matched_filter(zeros[i\u001b[38;5;241m*\u001b[39m\u001b[38;5;28mint\u001b[39m(PRI\u001b[38;5;241m*\u001b[39mSamplingRate):i\u001b[38;5;241m*\u001b[39m\u001b[38;5;28mint\u001b[39m(PRI\u001b[38;5;241m*\u001b[39mSamplingRate)\u001b[38;5;241m+\u001b[39m\u001b[38;5;28mint\u001b[39m(PRI\u001b[38;5;241m*\u001b[39mSamplingRate)],\u001b[43msignalEliminada\u001b[49m[i\u001b[38;5;241m*\u001b[39m\u001b[38;5;28mint\u001b[39m(PRI\u001b[38;5;241m*\u001b[39mSamplingRate):i\u001b[38;5;241m*\u001b[39m\u001b[38;5;28mint\u001b[39m(PRI\u001b[38;5;241m*\u001b[39mSamplingRate)\u001b[38;5;241m+\u001b[39m\u001b[38;5;28mint\u001b[39m(PRI\u001b[38;5;241m*\u001b[39mSamplingRate)])\n\u001b[1;32m     11\u001b[0m plt\u001b[38;5;241m.\u001b[39mxlabel(\u001b[38;5;124m'\u001b[39m\u001b[38;5;124mTiempo\u001b[39m\u001b[38;5;124m'\u001b[39m)\n\u001b[1;32m     12\u001b[0m plt\u001b[38;5;241m.\u001b[39mylabel(\u001b[38;5;124m'\u001b[39m\u001b[38;5;124mSalida del Matched Filter\u001b[39m\u001b[38;5;124m'\u001b[39m)\n",
      "\u001b[0;31mNameError\u001b[0m: name 'signalEliminada' is not defined"
     ]
    }
   ],
   "source": [
    "\n",
    "#Matched filter used to maximize SNR ratio\n",
    "def matched_filter(pulse,signal):\n",
    "    #debo conjugar la señal o utilizar el pulso conjugado\n",
    "    return np.convolve(pulse,signal,mode='full')\n",
    "\n",
    "rows, cols = (pulses, int(PRI/step))\n",
    "con =  [[0 for i in range(cols)] for j in range(rows)]\n",
    "for i in range(rows):\n",
    "       con[i] = matched_filter(zeros[i*int(PRI*SamplingRate):i*int(PRI*SamplingRate)+int(PRI*SamplingRate)],signalEliminada[i*int(PRI*SamplingRate):i*int(PRI*SamplingRate)+int(PRI*SamplingRate)])\n",
    "\n",
    "plt.xlabel('Tiempo')\n",
    "plt.ylabel('Salida del Matched Filter')\n",
    "plt.grid(True)\n",
    "plt.plot(t[:len(con[8])],con[20][:len(con[9])])\n",
    "#plt.plot(t[2000:3000],demodulated_signal_filtered[2000:3000])\n",
    "plt.show()\n"
   ]
  },
  {
   "cell_type": "code",
   "execution_count": null,
   "id": "198c4c17",
   "metadata": {
    "colab": {
     "base_uri": "https://localhost:8080/"
    },
    "id": "198c4c17",
    "outputId": "0a5573c2-2507-4ef7-eeb8-79a6ab31acf3"
   },
   "outputs": [],
   "source": [
    "index_max_j = 0\n",
    "max_con = []\n",
    "\n",
    "# Asumiendo que 'zeros' es el tren de pulsos \"zeros\"\n",
    "for i in range(0, rows):\n",
    "    max_i = 0\n",
    "    for j in range(len(con[i])):\n",
    "        if((con[i][j] > max_i) and (con[i][j] >= 0.05)):\n",
    "            max_i = con[i][j]\n",
    "            # Comparar con el tren de pulsos \"zeros\" en lugar de 't'\n",
    "            index_max_j = j - int(pulse_length * SamplingRate)\n",
    "\n",
    "    max_con.append(index_max_j)  # Guardar el índice en lugar del tiempo\n",
    "\n",
    "# Calcular el delta time estimado\n",
    "stimation_delta_t = sum(max_con) / len(max_con) / SamplingRate\n",
    "print(\"Estimated delta time: \" + str(stimation_delta_t) + \"[s]\")\n",
    "\n",
    "# Calcular el rango estimado\n",
    "stimation_range = stimation_delta_t * 299792458 / 2\n",
    "print(\"Estimated range: \" + str(stimation_range) + \"[m]\")\n"
   ]
  },
  {
   "cell_type": "markdown",
   "id": "d00e8b88",
   "metadata": {
    "id": "d00e8b88"
   },
   "source": [
    "Podemos apreciar como empeora la estimacion de distancia cuando no se utiliza el filtro apareado pero si la misma tecnica del buscar el maximo\n"
   ]
  },
  {
   "cell_type": "code",
   "execution_count": null,
   "id": "ec58204f",
   "metadata": {
    "id": "ec58204f"
   },
   "outputs": [],
   "source": [
    "#Delta time detector\n",
    "#max = rxSignal[0]\n",
    "index_max_j = 0\n",
    "max_con = []\n",
    "for i in range(rows):\n",
    "    max_i = 0\n",
    "    for j in range(len(recieved_signal[i])):\n",
    "        if(recieved_signal[i][j]>max_i):\n",
    "            max_i = con[i][j]\n",
    "            index_max_j = j\n",
    "    #print(index_max_j)\n",
    "    max_con.append(t[index_max_j])\n",
    "\n",
    "stimation_delta_t = sum(max_con)/len(max_con)\n",
    "print(\"Stimated delta time: \" + str(stimation_delta_t) + \"[s]\")\n",
    "stimation_range = stimation_delta_t*299792458/2\n",
    "print(\"Stimated range: \" + str(stimation_range) + \"[m]\")"
   ]
  },
  {
   "cell_type": "code",
   "execution_count": 50,
   "id": "23885c2d",
   "metadata": {},
   "outputs": [
    {
     "name": "stderr",
     "output_type": "stream",
     "text": [
      "ERROR: Open unlocked: -16\n"
     ]
    },
    {
     "ename": "OSError",
     "evalue": "[Errno 16] Device or resource busy",
     "output_type": "error",
     "traceback": [
      "\u001b[0;31m---------------------------------------------------------------------------\u001b[0m",
      "\u001b[0;31mOSError\u001b[0m                                   Traceback (most recent call last)",
      "Input \u001b[0;32mIn [50]\u001b[0m, in \u001b[0;36m<cell line: 15>\u001b[0;34m()\u001b[0m\n\u001b[1;32m     13\u001b[0m sdr2\u001b[38;5;241m.\u001b[39mtx_lo                 \u001b[38;5;241m=\u001b[39m \u001b[38;5;28mint\u001b[39m(\u001b[38;5;241m2400e6\u001b[39m)\n\u001b[1;32m     14\u001b[0m sdr2\u001b[38;5;241m.\u001b[39mrx_lo                 \u001b[38;5;241m=\u001b[39m \u001b[38;5;28mint\u001b[39m(\u001b[38;5;241m950e6\u001b[39m)\n\u001b[0;32m---> 15\u001b[0m \u001b[43msdr2\u001b[49m\u001b[38;5;241;43m.\u001b[39;49m\u001b[43mtx\u001b[49m\u001b[43m(\u001b[49m\u001b[43mnp\u001b[49m\u001b[38;5;241;43m.\u001b[39;49m\u001b[43mzeros\u001b[49m\u001b[43m(\u001b[49m\u001b[38;5;241;43m2048\u001b[39;49m\u001b[43m)\u001b[49m\u001b[43m)\u001b[49m\n\u001b[1;32m     16\u001b[0m \u001b[38;5;66;03m# Destroy radio object\u001b[39;00m\n\u001b[1;32m     17\u001b[0m \u001b[38;5;28;01mdel\u001b[39;00m(sdr2)\n",
      "File \u001b[0;32m~/.local/lib/python3.9/site-packages/adi/rx_tx.py:515\u001b[0m, in \u001b[0;36mtx.tx\u001b[0;34m(self, data_np)\u001b[0m\n\u001b[1;32m    513\u001b[0m     \u001b[38;5;28mself\u001b[39m\u001b[38;5;241m.\u001b[39mdisable_dds()\n\u001b[1;32m    514\u001b[0m     \u001b[38;5;28mself\u001b[39m\u001b[38;5;241m.\u001b[39m_tx_buffer_size \u001b[38;5;241m=\u001b[39m \u001b[38;5;28mlen\u001b[39m(data) \u001b[38;5;241m/\u001b[39m\u001b[38;5;241m/\u001b[39m stride\n\u001b[0;32m--> 515\u001b[0m     \u001b[38;5;28;43mself\u001b[39;49m\u001b[38;5;241;43m.\u001b[39;49m\u001b[43m_tx_init_channels\u001b[49m\u001b[43m(\u001b[49m\u001b[43m)\u001b[49m\n\u001b[1;32m    517\u001b[0m \u001b[38;5;28;01mif\u001b[39;00m \u001b[38;5;28mlen\u001b[39m(data) \u001b[38;5;241m/\u001b[39m\u001b[38;5;241m/\u001b[39m stride \u001b[38;5;241m!=\u001b[39m \u001b[38;5;28mself\u001b[39m\u001b[38;5;241m.\u001b[39m_tx_buffer_size:\n\u001b[1;32m    518\u001b[0m     \u001b[38;5;28;01mraise\u001b[39;00m \u001b[38;5;167;01mException\u001b[39;00m(\n\u001b[1;32m    519\u001b[0m         \u001b[38;5;124m\"\u001b[39m\u001b[38;5;124mBuffer length different than data length. \u001b[39m\u001b[38;5;124m\"\u001b[39m\n\u001b[1;32m    520\u001b[0m         \u001b[38;5;124m\"\u001b[39m\u001b[38;5;124mCannot change buffer length on the fly\u001b[39m\u001b[38;5;124m\"\u001b[39m\n\u001b[1;32m    521\u001b[0m     )\n",
      "File \u001b[0;32m~/.local/lib/python3.9/site-packages/adi/rx_tx.py:450\u001b[0m, in \u001b[0;36mtx._tx_init_channels\u001b[0;34m(self)\u001b[0m\n\u001b[1;32m    448\u001b[0m         v \u001b[38;5;241m=\u001b[39m \u001b[38;5;28mself\u001b[39m\u001b[38;5;241m.\u001b[39m_txdac\u001b[38;5;241m.\u001b[39mfind_channel(\u001b[38;5;28mself\u001b[39m\u001b[38;5;241m.\u001b[39m_tx_channel_names[m], \u001b[38;5;28;01mTrue\u001b[39;00m)\n\u001b[1;32m    449\u001b[0m         v\u001b[38;5;241m.\u001b[39menabled \u001b[38;5;241m=\u001b[39m \u001b[38;5;28;01mTrue\u001b[39;00m\n\u001b[0;32m--> 450\u001b[0m \u001b[38;5;28mself\u001b[39m\u001b[38;5;241m.\u001b[39m__txbuf \u001b[38;5;241m=\u001b[39m \u001b[43miio\u001b[49m\u001b[38;5;241;43m.\u001b[39;49m\u001b[43mBuffer\u001b[49m\u001b[43m(\u001b[49m\n\u001b[1;32m    451\u001b[0m \u001b[43m    \u001b[49m\u001b[38;5;28;43mself\u001b[39;49m\u001b[38;5;241;43m.\u001b[39;49m\u001b[43m_txdac\u001b[49m\u001b[43m,\u001b[49m\u001b[43m \u001b[49m\u001b[38;5;28;43mself\u001b[39;49m\u001b[38;5;241;43m.\u001b[39;49m\u001b[43m_tx_buffer_size\u001b[49m\u001b[43m,\u001b[49m\u001b[43m \u001b[49m\u001b[38;5;28;43mself\u001b[39;49m\u001b[38;5;241;43m.\u001b[39;49m\u001b[43m__tx_cyclic_buffer\u001b[49m\n\u001b[1;32m    452\u001b[0m \u001b[43m\u001b[49m\u001b[43m)\u001b[49m\n",
      "File \u001b[0;32m~/.local/lib/python3.9/site-packages/iio.py:1015\u001b[0m, in \u001b[0;36mBuffer.__init__\u001b[0;34m(self, device, samples_count, cyclic)\u001b[0m\n\u001b[1;32m   1000\u001b[0m \u001b[38;5;124;03m\"\"\"\u001b[39;00m\n\u001b[1;32m   1001\u001b[0m \u001b[38;5;124;03mInitialize a new instance of the Buffer class.\u001b[39;00m\n\u001b[1;32m   1002\u001b[0m \n\u001b[0;32m   (...)\u001b[0m\n\u001b[1;32m   1012\u001b[0m \u001b[38;5;124;03m    An new instance of this class\u001b[39;00m\n\u001b[1;32m   1013\u001b[0m \u001b[38;5;124;03m\"\"\"\u001b[39;00m\n\u001b[1;32m   1014\u001b[0m \u001b[38;5;28;01mtry\u001b[39;00m:\n\u001b[0;32m-> 1015\u001b[0m     \u001b[38;5;28mself\u001b[39m\u001b[38;5;241m.\u001b[39m_buffer \u001b[38;5;241m=\u001b[39m \u001b[43m_create_buffer\u001b[49m\u001b[43m(\u001b[49m\u001b[43mdevice\u001b[49m\u001b[38;5;241;43m.\u001b[39;49m\u001b[43m_device\u001b[49m\u001b[43m,\u001b[49m\u001b[43m \u001b[49m\u001b[43msamples_count\u001b[49m\u001b[43m,\u001b[49m\u001b[43m \u001b[49m\u001b[43mcyclic\u001b[49m\u001b[43m)\u001b[49m\n\u001b[1;32m   1016\u001b[0m \u001b[38;5;28;01mexcept\u001b[39;00m \u001b[38;5;167;01mException\u001b[39;00m:\n\u001b[1;32m   1017\u001b[0m     \u001b[38;5;28mself\u001b[39m\u001b[38;5;241m.\u001b[39m_buffer \u001b[38;5;241m=\u001b[39m \u001b[38;5;28;01mNone\u001b[39;00m\n",
      "File \u001b[0;32m~/.local/lib/python3.9/site-packages/iio.py:56\u001b[0m, in \u001b[0;36m_check_null\u001b[0;34m(result, func, arguments)\u001b[0m\n\u001b[1;32m     54\u001b[0m     \u001b[38;5;28;01mreturn\u001b[39;00m result\n\u001b[1;32m     55\u001b[0m err \u001b[38;5;241m=\u001b[39m get_last_error() \u001b[38;5;28;01mif\u001b[39;00m \u001b[38;5;124m\"\u001b[39m\u001b[38;5;124mWindows\u001b[39m\u001b[38;5;124m\"\u001b[39m \u001b[38;5;129;01min\u001b[39;00m _system() \u001b[38;5;28;01melse\u001b[39;00m get_errno()\n\u001b[0;32m---> 56\u001b[0m \u001b[38;5;28;01mraise\u001b[39;00m \u001b[38;5;167;01mOSError\u001b[39;00m(err, _strerror(err))\n",
      "\u001b[0;31mOSError\u001b[0m: [Errno 16] Device or resource busy"
     ]
    }
   ],
   "source": [
    "# Since it is not possible to turn off Tx, it is configured to transmit at low power and on a different frequency than Rx.\n",
    "sdr.tx_destroy_buffer()\n",
    "sdr.tx_hardwaregain_chan0 = -89 \n",
    "sdr.tx_lo                 = int(2400e6)\n",
    "sdr.rx_lo                 = int(950e6)\n",
    "sdr.tx(np.zeros(2048))\n",
    "# Destroy radio object\n",
    "del(sdr)\n",
    "\n",
    "# Since it is not possible to turn off Tx, it is configured to transmit at low power and on a different frequency than Rx.\n",
    "sdr2.tx_destroy_buffer()\n",
    "sdr2.tx_hardwaregain_chan0 = -89 \n",
    "sdr2.tx_lo                 = int(2400e6)\n",
    "sdr2.rx_lo                 = int(950e6)\n",
    "sdr2.tx(np.zeros(2048))\n",
    "# Destroy radio object\n",
    "del(sdr2)"
   ]
  }
 ],
 "metadata": {
  "colab": {
   "provenance": []
  },
  "kernelspec": {
   "display_name": "Python 3 (ipykernel)",
   "language": "python",
   "name": "python3"
  },
  "language_info": {
   "codemirror_mode": {
    "name": "ipython",
    "version": 3
   },
   "file_extension": ".py",
   "mimetype": "text/x-python",
   "name": "python",
   "nbconvert_exporter": "python",
   "pygments_lexer": "ipython3",
   "version": "3.9.7"
  }
 },
 "nbformat": 4,
 "nbformat_minor": 5
}
