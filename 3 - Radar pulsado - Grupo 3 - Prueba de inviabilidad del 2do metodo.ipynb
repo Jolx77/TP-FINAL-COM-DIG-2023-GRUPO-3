{
 "cells": [
  {
   "cell_type": "markdown",
   "id": "55f619e4",
   "metadata": {
    "id": "55f619e4"
   },
   "source": [
    "# Generando un tren de pulsos de radar pulsado"
   ]
  },
  {
   "cell_type": "markdown",
   "id": "152b0239",
   "metadata": {
    "id": "152b0239"
   },
   "source": [
    "Un radar pulsado es aquel capaz de medir tanto rango (distancia) como velocidad, haciendo uso de la transmisión de pulsos muy cortos de duración τ y un periodo de escucha mayor Τ para luego leer el reflejo del mismo en alguna superficie. La distancia al objetivo se determina por el tiempo de ida y vuelta de la señal (en el caso estacionario) generando un Δ$t$, lo que nos permite utilizar la siguiente fómula:\n",
    " ### <center> $R = \\frac{\\Delta t*c}{2}$            \n",
    "  Donde $R$ es el rango y $c$ es la velocidad de propagación de la onda, que al ser electromagnética corresponde a la velocidad de la luz. Con esta información y midiendo el $\\Delta t$, podemos calcular una estimación del rango."
   ]
  },
  {
   "cell_type": "code",
   "execution_count": 1,
   "id": "f1fcdc52",
   "metadata": {
    "id": "f1fcdc52"
   },
   "outputs": [],
   "source": [
    "import adi\n",
    "import time\n",
    "import matplotlib.pyplot as plt\n",
    "from datetime import datetime\n",
    "import numpy as np\n",
    "import threading\n",
    "from commpy.filters import rrcosfilter\n",
    "from sk_dsp_comm import digitalcom as dc\n",
    "import scipy.signal as signal\n",
    "from scipy.fftpack import fftfreq\n",
    "from scipy.linalg import bandwidth"
   ]
  },
  {
   "cell_type": "code",
   "execution_count": 2,
   "id": "cb5e923b",
   "metadata": {
    "id": "cb5e923b"
   },
   "outputs": [],
   "source": [
    "import numpy as np\n",
    "import matplotlib.pyplot as plt\n",
    "#------------------------------- SDR Parameter Configuration -------------------------------\n",
    "\n",
    "Uri              = \"ip:192.168.1.34\"\n",
    "SamplingRate     = 6e6        # Sample rate RX and TX paths[Samples/Sec]\n",
    "Loopback         = 1          # 0=Disabled, 1=Digital, 2=RF\n",
    "\n",
    "TxLOFreq         = 918e6         # Carrier frequency of TX path [Hz] RELLENAR CON LA FREC. DE PORTADORA ASIGNADA\n",
    "TxAtten          = 0           # Attenuation applied to TX path, valid range is -90 to 0 dB [dB]\n",
    "TxRfBw           = 6e6           # Bandwidth of front-end analog filter of TX path [Hz]\n",
    "\n",
    "RxLOFreq         = TxLOFreq      # Carrier frequency of RX path [Hz]\n",
    "GainControlModes = \"slow_attack\" # Receive path AGC Options: slow_attack, fast_attack, manual\n",
    "RxHardwareGain   = 0             # Gain applied to RX path. Only applicable when gain_control_mode is set to 'manual'\n",
    "RxRfBw           = TxRfBw        # Bandwidth of front-end analog filter of RX path [Hz]\n",
    "RxBufferSize     = 2**20-1"
   ]
  },
  {
   "cell_type": "code",
   "execution_count": 3,
   "id": "d0809187",
   "metadata": {},
   "outputs": [],
   "source": [
    "Uri2              = \"ip:192.168.1.31\"\n",
    "SamplingRate2     = 6e6           # Sample rate RX and TX paths[Samples/Sec]\n",
    "Loopback2         = 0            # 0=Disabled, 1=Digital, 2=RF\n",
    "\n",
    "TxLOFreq2         = 918e6         # Carrier frequency of TX path [Hz] RELLENAR CON LA FREC. DE PORTADORA ASIGNADA\n",
    "TxAtten2          = 0          # Attenuation applied to TX path, valid range is -90 to 0 dB [dB]\n",
    "TxRfBw2           = 4e6           # Bandwidth of front-end analog filter of TX path [Hz]\n",
    "\n",
    "RxLOFreq2         = TxLOFreq      # Carrier frequency of RX path [Hz]\n",
    "GainControlModes2 = \"slow_attack\" # Receive path AGC Options: slow_attack, fast_attack, manual\n",
    "RxHardwareGain2   = 0             # Gain applied to RX path. Only applicable when gain_control_mode is set to 'manual'\n",
    "RxRfBw2           = TxRfBw        # Bandwidth of front-end analog filter of RX path [Hz]\n",
    "RxBufferSize2     = 2**20-1"
   ]
  },
  {
   "cell_type": "markdown",
   "id": "f2cf6be1",
   "metadata": {
    "id": "f2cf6be1"
   },
   "source": [
    "Definimos variables como el PRI (pulse repetition interval) y su inversa, PRF (pulse repetition frequency). Por otro lado, determinamos la frecuencia de sampling y de transmisión dentro del pulso. El valor del PRI nos dará el rango máximo calculable por nuestro radar, ya que, nuestro pulso debe ser transmitido y recibido antes de volver a transmitir el segundo pulso. Es por esto que la máxima distancia calculable es:\n",
    "  \n",
    "$Max Range = \\frac{c}{2}*PRI $.\n",
    "\n",
    "En nuestro caso, la distancia máxima es de 150000 [m] o 150 [km] para un PRI de 0.001 [s] y una PRF de 1[kHz]."
   ]
  },
  {
   "cell_type": "code",
   "execution_count": 4,
   "id": "7d88696f",
   "metadata": {
    "id": "7d88696f"
   },
   "outputs": [],
   "source": [
    "PRI = 0.001 #Se trata de un valor arbitrario, intervalo cada cuánto se repite el pulso (entre el inicio de un pulso y su antecesor)\n",
    "PRF = 1/PRI #cantidad de pulsos por unidad de tiempo\n",
    "potencia_señal = 1\n",
    "\n",
    "pulses = 100 #cantidad de pulsos del radar\n",
    "\n",
    "sample_f = SamplingRate\n",
    "step = 1/SamplingRate #paso entre las muestras\n",
    "f1 = 500e3\n",
    "samples = pulses*int(PRI/step) # PRI/step cantidad de muestras que necesito para un PRI."
   ]
  },
  {
   "cell_type": "markdown",
   "id": "u0BWjyLZ_l4p",
   "metadata": {
    "id": "u0BWjyLZ_l4p"
   },
   "source": [
    "En esta porción de código calculamos la cantidad de $samples$ que vamos a utilizar, se obtiene de la división entre el intervalo de la repetición de pulsos y el paso entre las muestras, esto nos da la cantidad de muestras por pulso, luego, al multiplicarlo por la cantidad de pulsos del radar obtenemos la cantidad de muestras."
   ]
  },
  {
   "cell_type": "markdown",
   "id": "b7734f04",
   "metadata": {
    "id": "b7734f04"
   },
   "source": [
    "En las siguientes celdas generamos nuestra señal a transmitir ,nuestro vector de tiempo y se realiza la configuración de la SDR haciendo uso de la libreria adi. Modulamos el tren de pulsos con la siguiente función senoidal"
   ]
  },
  {
   "cell_type": "markdown",
   "id": "aecb91b7",
   "metadata": {
    "id": "aecb91b7"
   },
   "source": [
    "\\begin{equation}\n",
    "    Tx_I = \\sin(2* \\pi * f_1 * t)\n",
    "\\end{equation}\n",
    "\n",
    "\\begin{equation}\n",
    "    Tx_Q = \\sin(2* \\pi * f_1 * t)\n",
    "\\end{equation}\n",
    "\n",
    "\\begin{equation}\n",
    "    Tx = Tx_I + jTx_Q = \\sin(2* \\pi * f_1 * t) + j * \\sin(2* \\pi * f_1 * t)\n",
    "\\end{equation}\n"
   ]
  },
  {
   "cell_type": "code",
   "execution_count": 5,
   "id": "1e5d1868",
   "metadata": {
    "id": "1e5d1868"
   },
   "outputs": [],
   "source": [
    "t = np.linspace(0,(samples-1)*step,samples) #Genera el array de valores de tiempo (600.000 valores separados cada <step> unidades de tiempo)\n",
    "pulse_length = 0.0005 #[s] => 0.5 duración del pulso en segundos\n",
    "Tx_I = 20*np.sin(2*np.pi*f1*t) + 20\n",
    "Tx_Q = 20*np.sin(2*np.pi*f1*t + np.pi/2) + 20\n",
    "zeros = np.zeros(len(t))  # arreglo completo\n",
    "ones = np.ones(int(pulse_length*SamplingRate)) # señal continua de duracion pulse_length\n",
    "\n",
    "for i in range(0,len(Tx_I),int(PRI*SamplingRate)):\n",
    "      zeros[i:i+len(ones)] = ones #Cada un PRI, hacemos a la función zeros igual a 1 durante un tiempo <pulse_length> (es decir tenemos un tren de pulsos)\n",
    "        \n",
    "#zeros[:int(pulse_length*SamplingRate)] = zeros[:int(pulse_length*SamplingRate)] * 20"
   ]
  },
  {
   "cell_type": "code",
   "execution_count": 6,
   "id": "b6e6a0d4",
   "metadata": {
    "colab": {
     "base_uri": "https://localhost:8080/",
     "height": 482
    },
    "id": "b6e6a0d4",
    "outputId": "f4c4c25c-aaba-4966-b7ea-fab41596fa7e"
   },
   "outputs": [
    {
     "data": {
      "text/plain": [
       "[<matplotlib.lines.Line2D at 0x7f45d332fac0>]"
      ]
     },
     "execution_count": 6,
     "metadata": {},
     "output_type": "execute_result"
    },
    {
     "data": {
      "image/png": "[encoded data removed]",
      "text/plain": [
       "<Figure size 432x288 with 1 Axes>"
      ]
     },
     "metadata": {
      "needs_background": "light"
     },
     "output_type": "display_data"
    }
   ],
   "source": [
    "Tx_I = Tx_I * zeros # parte real de la señal\n",
    "Tx_Q = Tx_Q * zeros #parte imaginaria\n",
    "Tx = Tx_I + 1j * Tx_Q #señal completa\n",
    "\n",
    "plt.plot(t[:13000],Tx[:13000])"
   ]
  },
  {
   "cell_type": "code",
   "execution_count": 7,
   "id": "9a74c312",
   "metadata": {
    "colab": {
     "base_uri": "https://localhost:8080/",
     "height": 245
    },
    "id": "9a74c312",
    "outputId": "7102631f-7f73-4d10-a9f2-cf618abe5f9f"
   },
   "outputs": [],
   "source": [
    "#-----------------------------------SDR Configurations-------------------------------\n",
    "sdr             = adi.Pluto(Uri)\n",
    "sdr.sample_rate = SamplingRate\n",
    "sdr.loopback    = Loopback\n",
    "#Tx:\n",
    "sdr.tx_lo                 = int(TxLOFreq)\n",
    "sdr.tx_hardwaregain_chan0 = TxAtten\n",
    "sdr.tx_rf_bandwidth       = int(TxRfBw)\n",
    "sdr.tx_buffer_size        = samples\n",
    "sdr.tx_cyclic_buffer      = True\n",
    "# Rx:\n",
    "sdr.rx_lo                   = int(RxLOFreq)\n",
    "sdr.gain_control_mode_chan0 = GainControlModes\n",
    "sdr.rx_rf_bandwidth         = int(RxRfBw)\n",
    "sdr.rx_cyclic_buffer        = True\n",
    "sdr.rx_buffer_size          = RxBufferSize\n",
    "sdr.rx_enabled_channels = [0]"
   ]
  },
  {
   "cell_type": "code",
   "execution_count": 8,
   "id": "8d5b36ac",
   "metadata": {},
   "outputs": [],
   "source": [
    "#-----------------------------------SDR Configurations-------------------------------\n",
    "sdr2             = adi.Pluto(Uri2)\n",
    "sdr2.sample_rate = SamplingRate2\n",
    "sdr2.loopback    = Loopback2\n",
    "#Tx:\n",
    "sdr2.tx_lo                 = int(TxLOFreq2)\n",
    "sdr2.tx_hardwaregain_chan0 = TxAtten2\n",
    "sdr2.tx_rf_bandwidth       = int(TxRfBw2)\n",
    "sdr2.tx_buffer_size        = samples\n",
    "sdr2.tx_cyclic_buffer      = False\n",
    "# Rx:\n",
    "sdr2.rx_lo                   = int(RxLOFreq2)\n",
    "sdr2.gain_control_mode_chan0 = GainControlModes2\n",
    "sdr2.rx_rf_bandwidth         = int(RxRfBw2)\n",
    "sdr2.rx_cyclic_buffer        = False\n",
    "sdr2.rx_buffer_size          = RxBufferSize2\n",
    "sdr2.rx_enabled_channels = [0]"
   ]
  },
  {
   "cell_type": "code",
   "execution_count": 9,
   "id": "e31c2c83",
   "metadata": {},
   "outputs": [
    {
     "data": {
      "image/png": "[encoded data removed]",
      "text/plain": [
       "<Figure size 720x360 with 1 Axes>"
      ]
     },
     "metadata": {
      "needs_background": "light"
     },
     "output_type": "display_data"
    },
    {
     "data": {
      "image/png": "[encoded data removed]",
      "text/plain": [
       "<Figure size 720x360 with 1 Axes>"
      ]
     },
     "metadata": {
      "needs_background": "light"
     },
     "output_type": "display_data"
    }
   ],
   "source": [
    "sdr.rx_destroy_buffer()\n",
    "sdr.tx_destroy_buffer()\n",
    "sdr.tx(Tx * ((2**15-1)))\n",
    "rxSignal = sdr.rx() / ((2**15-1))\n",
    "plt.figure(figsize=(10, 5))\n",
    "#plt.plot(t[:size], zeros[:size], label='Zeros Signal')\n",
    "plt.plot(t[400000:450000],rxSignal[400000:450000], label='Rectified Signal')\n",
    "plt.legend()\n",
    "plt.xlabel('Tiempo')\n",
    "plt.ylabel('Amplitud')\n",
    "plt.title('Tren de pulso')\n",
    "plt.grid(True)\n",
    "plt.show()\n",
    "\n",
    "# Visualización de la señal recibida rectificada\n",
    "plt.figure(figsize=(10, 5))\n",
    "#plt.plot(t[:size], zeros[:size], label='Zeros Signal')\n",
    "plt.plot(t[400000:450000],zeros[400000:450000], label='Rectified Signal')\n",
    "plt.legend()\n",
    "plt.xlabel('Tiempo')\n",
    "plt.ylabel('Amplitud')\n",
    "plt.title('Tren de pulso')\n",
    "plt.grid(True)\n",
    "plt.show()"
   ]
  },
  {
   "cell_type": "markdown",
   "id": "877444fa",
   "metadata": {
    "id": "877444fa"
   },
   "source": [
    "Tramisión y Recepción"
   ]
  },
  {
   "cell_type": "code",
   "execution_count": 13,
   "id": "3e8b42ec",
   "metadata": {
    "colab": {
     "base_uri": "https://localhost:8080/",
     "height": 210
    },
    "id": "3e8b42ec",
    "outputId": "f867ef86-0ddc-4ef6-e900-c03add7f228e",
    "scrolled": false
   },
   "outputs": [
    {
     "name": "stdout",
     "output_type": "stream",
     "text": [
      "400662\n"
     ]
    },
    {
     "data": {
      "image/png": "[encoded data removed]",
      "text/plain": [
       "<Figure size 720x360 with 1 Axes>"
      ]
     },
     "metadata": {
      "needs_background": "light"
     },
     "output_type": "display_data"
    },
    {
     "data": {
      "image/png": "[encoded data removed]",
      "text/plain": [
       "<Figure size 720x360 with 1 Axes>"
      ]
     },
     "metadata": {
      "needs_background": "light"
     },
     "output_type": "display_data"
    }
   ],
   "source": [
    "Loopback        = 1  \n",
    "sdr.loopback    = Loopback\n",
    "sdr.rx_destroy_buffer()\n",
    "sdr.tx_destroy_buffer()\n",
    "\n",
    "# Función para la transmisión en un hilo\n",
    "def transmitir():\n",
    "        #global tiempoActual\n",
    "        sdr.tx(Tx * ((2**15-1)))\n",
    "        #tiempoActual = time.time()\n",
    "        \n",
    "# Función para la recepción en un hilo\n",
    "def recibir():\n",
    "        global rxSignal\n",
    "        global tiempoActual\n",
    "        rxSignal = sdr.rx() / ((2**15-1))\n",
    "        tiempoActual = time.time()\n",
    "\n",
    "\n",
    "# Crea los hilos\n",
    "thread_tx = threading.Thread(target=transmitir)\n",
    "thread_rx = threading.Thread(target=recibir)\n",
    "\n",
    "# Inicia los hilos\n",
    "thread_rx.start()\n",
    "thread_tx.start()\n",
    "\n",
    "# Espera a que los hilos terminen (esto no se ejecutará debido a los bucles infinitos)\n",
    "thread_rx.join()\n",
    "thread_tx.join()\n",
    "\n",
    "#Loopback        = 0  \n",
    "#sdr.loopback    = Loopback\n",
    "trim = 0\n",
    "trim = np.nonzero(rxSignal)[0][0]\n",
    "print(trim)\n",
    "zeros = np.roll(zeros, trim)\n",
    "#zeros = np.roll(zeros, int((0.0005-0.00005)*6000000))\n",
    "# Visualización de la señal recibida rectificada\n",
    "plt.figure(figsize=(10, 5))\n",
    "#plt.plot(t[:size], zeros[:size], label='Zeros Signal')\n",
    "plt.plot(t[400000:450000],rxSignal[400000:450000], label='Rectified Signal')\n",
    "plt.legend()\n",
    "plt.xlabel('Tiempo')\n",
    "plt.ylabel('Amplitud')\n",
    "plt.title('Tren de pulso')\n",
    "plt.grid(True)\n",
    "plt.show()\n",
    "\n",
    "# Visualización de la señal recibida rectificada\n",
    "plt.figure(figsize=(10, 5))\n",
    "#plt.plot(t[:size], zeros[:size], label='Zeros Signal')\n",
    "plt.plot(t[400000:450000],zeros[400000:450000], label='Rectified Signal')\n",
    "plt.legend()\n",
    "plt.xlabel('Tiempo')\n",
    "plt.ylabel('Amplitud')\n",
    "plt.title('Tren de pulso')\n",
    "plt.grid(True)\n",
    "plt.show()"
   ]
  },
  {
   "cell_type": "code",
   "execution_count": 11,
   "id": "9b1b81bf",
   "metadata": {
    "colab": {
     "base_uri": "https://localhost:8080/",
     "height": 245
    },
    "id": "9b1b81bf",
    "outputId": "ed8db496-df74-443e-c14b-bf4bb80d9c7b",
    "scrolled": true
   },
   "source": [
    "#Loopback        = 0  \n",
    "#sdr.loopback    = Loopback\n",
    "\n",
    "stimationDiff = []\n",
    "lenght = 1000\n",
    "for l in range(lenght): \n",
    "    rxSignal = sdr.rx() / ((2**15-1))\n",
    "    tiempoActual2 = time.time()\n",
    "    tiempoViejo = tiempoActual\n",
    "    tiempoActual = tiempoActual2\n",
    "    tiempoDesp = tiempoActual - tiempoViejo\n",
    "\n",
    "    print(tiempoDesp)\n",
    "    desp =  int((tiempoDesp+pulse_length)*SamplingRate)\n",
    "\n",
    "    zeros = np.roll(zeros, -desp)\n",
    "\n",
    "    diff = (np.where(rxSignal == 0)[0][0] - np.where(zeros == 0)[0][0])\n",
    "\n",
    "    if diff == 0:\n",
    "        diff = (np.nonzero(rxSignal)[0][1] - np.nonzero(zeros)[0][0])\n",
    "\n",
    "    print(\"Diff es:\", abs(diff/SamplingRate))\n",
    "    print(l)\n",
    "    stimationDiff.append(abs(diff/SamplingRate))\n",
    "    \n",
    "    \n",
    "    "
   ]
  },
  {
   "cell_type": "code",
   "execution_count": 1,
   "id": "5c980d91",
   "metadata": {},
   "outputs": [
    {
     "ename": "NameError",
     "evalue": "name 'np' is not defined",
     "output_type": "error",
     "traceback": [
      "\u001b[0;31m---------------------------------------------------------------------------\u001b[0m",
      "\u001b[0;31mNameError\u001b[0m                                 Traceback (most recent call last)",
      "Input \u001b[0;32mIn [1]\u001b[0m, in \u001b[0;36m<cell line: 1>\u001b[0;34m()\u001b[0m\n\u001b[0;32m----> 1\u001b[0m \u001b[38;5;28mprint\u001b[39m(\u001b[38;5;124m\"\u001b[39m\u001b[38;5;124mLa media es: \u001b[39m\u001b[38;5;124m\"\u001b[39m \u001b[38;5;241m+\u001b[39m \u001b[38;5;28mstr\u001b[39m(\u001b[43mnp\u001b[49m\u001b[38;5;241m.\u001b[39mmean(stimationDiff)))\n\u001b[1;32m      2\u001b[0m varianza \u001b[38;5;241m=\u001b[39m np\u001b[38;5;241m.\u001b[39mvar(stimationDiff)\n\u001b[1;32m      4\u001b[0m \u001b[38;5;66;03m# Calcula la desviación estándar\u001b[39;00m\n",
      "\u001b[0;31mNameError\u001b[0m: name 'np' is not defined"
     ]
    }
   ],
   "source": [
    "\n",
    "print(\"La media es: \" + str(np.mean(stimationDiff)))\n",
    "varianza = np.var(stimationDiff)\n",
    "\n",
    "# Calcula la desviación estándar\n",
    "desviacion_estandar = np.std(stimationDiff)\n",
    "\n",
    "print(f'Varianza: {varianza}')\n",
    "print(f'Desviación Estándar: {desviacion_estandar}')\n",
    "\n",
    "plt.hist(stimationDiff, bins=len(stimationDiff), density=True, alpha=0.75, edgecolor='red')\n",
    "\n",
    "# Personalizar el gráfico\n",
    "plt.title('Diferencia en tiempo')\n",
    "plt.xlabel('Valor')\n",
    "plt.ylabel('Frecuencia')\n",
    "plt.xlim(0,max(stimationDiff))\n",
    "# Ajustar la resolución\n",
    "plt.figure(dpi=300)\n",
    "\n",
    "# Mostrar el histograma\n",
    "plt.show()"
   ]
  },
  {
   "cell_type": "code",
   "execution_count": null,
   "id": "23f9a903",
   "metadata": {},
   "outputs": [],
   "source": []
  }
 ],
 "metadata": {
  "colab": {
   "provenance": []
  },
  "kernelspec": {
   "display_name": "Python 3 (ipykernel)",
   "language": "python",
   "name": "python3"
  },
  "language_info": {
   "codemirror_mode": {
    "name": "ipython",
    "version": 3
   },
   "file_extension": ".py",
   "mimetype": "text/x-python",
   "name": "python",
   "nbconvert_exporter": "python",
   "pygments_lexer": "ipython3",
   "version": "3.9.7"
  }
 },
 "nbformat": 4,
 "nbformat_minor": 5
}
